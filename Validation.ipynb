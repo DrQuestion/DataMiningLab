{
 "cells": [
  {
   "cell_type": "code",
   "execution_count": 2,
   "metadata": {},
   "outputs": [],
   "source": [
    "import pandas as pd\n",
    "import numpy as np\n",
    "\n",
    "pathology = pd.read_csv(r'~/Documents/UniTn/DataMiningLab/pathology.tsv/crc_pathology.tsv', sep='\\t', header=0)\n",
    "prognostic = pathology[pd.isna(pathology['unprognostic - favourable']) & pd.isna(pathology['unprognostic - unfavourable'])]"
   ]
  },
  {
   "cell_type": "code",
   "execution_count": 6,
   "metadata": {},
   "outputs": [
    {
     "name": "stdout",
     "output_type": "stream",
     "text": [
      "SPAG4\n",
      "PHF1\n",
      "FLOT1\n",
      "CSAD\n"
     ]
    }
   ],
   "source": [
    "lst=['ENSG00000146083', 'ENSG00000022567', 'ENSG00000112511',\n",
    "       'ENSG00000173276', 'ENSG00000184014', 'ENSG00000159082',\n",
    "       'ENSG00000198642', 'ENSG00000058272', 'ENSG00000110713',\n",
    "       'ENSG00000033327', 'ENSG00000115464', 'ENSG00000183049',\n",
    "       'ENSG00000167522', 'ENSG00000166987', 'ENSG00000153339',\n",
    "       'ENSG00000163660', 'ENSG00000070495', 'ENSG00000123353',\n",
    "       'ENSG00000153207', 'ENSG00000114648', 'ENSG00000102908',\n",
    "       'ENSG00000168066', 'ENSG00000119638', 'ENSG00000143324',\n",
    "       'ENSG00000217128', 'ENSG00000061656', 'ENSG00000087206',\n",
    "       'ENSG00000037637', 'ENSG00000139697', 'ENSG00000143442',\n",
    "       'ENSG00000164978', 'ENSG00000023287', 'ENSG00000109787',\n",
    "       'ENSG00000135049', 'ENSG00000038219', 'ENSG00000135250',\n",
    "       'ENSG00000156639', 'ENSG00000157869', 'ENSG00000170871',\n",
    "       'ENSG00000109381', 'ENSG00000100030', 'ENSG00000173757',\n",
    "       'ENSG00000139946', 'ENSG00000137312', 'ENSG00000231074',\n",
    "       'ENSG00000157764', 'ENSG00000161920', 'ENSG00000177463',\n",
    "       'ENSG00000147454', 'ENSG00000067900', 'ENSG00000198740',\n",
    "       'ENSG00000172262', 'ENSG00000204348', 'ENSG00000083896',\n",
    "       'ENSG00000117625', 'ENSG00000169057', 'ENSG00000166501',\n",
    "       'ENSG00000156110', 'ENSG00000173273', 'ENSG00000139631',\n",
    "       'ENSG00000077458', 'ENSG00000151466', 'ENSG00000114982',\n",
    "       'ENSG00000104885', 'ENSG00000100226', 'ENSG00000162642',\n",
    "       'ENSG00000058091', 'ENSG00000076108', 'ENSG00000127481',\n",
    "       'ENSG00000116679', 'ENSG00000213516', 'ENSG00000101751',\n",
    "       'ENSG00000078304', 'ENSG00000147050', 'ENSG00000164327',\n",
    "       'ENSG00000178974', 'ENSG00000120616', 'ENSG00000147383',\n",
    "       'ENSG00000153815', 'ENSG00000164715', 'ENSG00000146416',\n",
    "       'ENSG00000160584']\n",
    "for i, row in prognostic.iterrows():\n",
    "    if row[0] in lst:\n",
    "        print(row[1])"
   ]
  },
  {
   "cell_type": "code",
   "execution_count": null,
   "metadata": {},
   "outputs": [],
   "source": []
  }
 ],
 "metadata": {
  "kernelspec": {
   "display_name": "Python 3",
   "language": "python",
   "name": "python3"
  },
  "language_info": {
   "codemirror_mode": {
    "name": "ipython",
    "version": 3
   },
   "file_extension": ".py",
   "mimetype": "text/x-python",
   "name": "python",
   "nbconvert_exporter": "python",
   "pygments_lexer": "ipython3",
   "version": "3.7.4"
  }
 },
 "nbformat": 4,
 "nbformat_minor": 2
}
