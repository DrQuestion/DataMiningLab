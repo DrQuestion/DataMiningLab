{
 "cells": [
  {
   "cell_type": "code",
   "execution_count": 1,
   "metadata": {},
   "outputs": [],
   "source": [
    "import pandas as pd\n",
    "import numpy as np\n",
    "\n",
    "pathology = pd.read_csv(r'~/Documents/UniTn/DataMiningLab/pathology.tsv/crc_pathology.tsv', sep='\\t', header=0)\n",
    "prognostic = pathology[pd.isna(pathology['unprognostic - favourable']) & pd.isna(pathology['unprognostic - unfavourable'])]"
   ]
  },
  {
   "cell_type": "code",
   "execution_count": 2,
   "metadata": {},
   "outputs": [],
   "source": [
    "lst=['ENSG00000267206.4', 'ENSG00000172554.10', 'ENSG00000134115.11', 'ENSG00000168454.11', 'ENSG00000229676.2', 'ENSG00000120907.16', 'ENSG00000108231.10', 'ENSG00000038295.6', 'ENSG00000112232.8', 'ENSG00000166960.15', 'ENSG00000166105.14', 'ENSG00000197561.5']\n",
    "for i, row in prognostic.iterrows():\n",
    "    if row[0] in lst:\n",
    "        print(row[1])"
   ]
  },
  {
   "cell_type": "code",
   "execution_count": null,
   "metadata": {},
   "outputs": [],
   "source": []
  }
 ],
 "metadata": {
  "kernelspec": {
   "display_name": "Python 3",
   "language": "python",
   "name": "python3"
  },
  "language_info": {
   "codemirror_mode": {
    "name": "ipython",
    "version": 3
   },
   "file_extension": ".py",
   "mimetype": "text/x-python",
   "name": "python",
   "nbconvert_exporter": "python",
   "pygments_lexer": "ipython3",
   "version": "3.7.4"
  }
 },
 "nbformat": 4,
 "nbformat_minor": 2
}
