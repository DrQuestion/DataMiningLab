{
 "cells": [
  {
   "cell_type": "code",
   "execution_count": 1,
   "metadata": {},
   "outputs": [],
   "source": [
    "import pandas as pd\n",
    "import numpy as np\n",
    "\n",
    "pathology = pd.read_csv(r'~/Documents/UniTn/DataMiningLab/pathology.tsv/crc_pathology.tsv', sep='\\t', header=0)\n",
    "prognostic = pathology[pd.isna(pathology['unprognostic - favourable']) & pd.isna(pathology['unprognostic - unfavourable'])]"
   ]
  },
  {
   "cell_type": "code",
   "execution_count": 11,
   "metadata": {},
   "outputs": [
    {
     "name": "stdout",
     "output_type": "stream",
     "text": [
      "Gene                             ENSG00000112511\n",
      "Gene name                                   PHF1\n",
      "Cancer                         colorectal cancer\n",
      "High                                           9\n",
      "Medium                                         2\n",
      "Low                                            0\n",
      "Not detected                                   0\n",
      "prognostic - favourable                      NaN\n",
      "unprognostic - favourable                    NaN\n",
      "prognostic - unfavourable              9.637e-05\n",
      "unprognostic - unfavourable                  NaN\n",
      "Name: 4034, dtype: object\n",
      "Gene                             ENSG00000114446\n",
      "Gene name                                  IFT57\n",
      "Cancer                         colorectal cancer\n",
      "High                                           0\n",
      "Medium                                         3\n",
      "Low                                            7\n",
      "Not detected                                   1\n",
      "prognostic - favourable                6.965e-05\n",
      "unprognostic - favourable                    NaN\n",
      "prognostic - unfavourable                    NaN\n",
      "unprognostic - unfavourable                  NaN\n",
      "Name: 4251, dtype: object\n",
      "Gene                             ENSG00000139631\n",
      "Gene name                                   CSAD\n",
      "Cancer                         colorectal cancer\n",
      "High                                           0\n",
      "Medium                                         2\n",
      "Low                                            1\n",
      "Not detected                                   8\n",
      "prognostic - favourable                      NaN\n",
      "unprognostic - favourable                    NaN\n",
      "prognostic - unfavourable              0.0009503\n",
      "unprognostic - unfavourable                  NaN\n",
      "Name: 7745, dtype: object\n",
      "Gene                             ENSG00000160741\n",
      "Gene name                                  CRTC2\n",
      "Cancer                         colorectal cancer\n",
      "High                                           0\n",
      "Medium                                         3\n",
      "Low                                            8\n",
      "Not detected                                   1\n",
      "prognostic - favourable                      NaN\n",
      "unprognostic - favourable                    NaN\n",
      "prognostic - unfavourable              0.0005755\n",
      "unprognostic - unfavourable                  NaN\n",
      "Name: 10364, dtype: object\n",
      "Gene                             ENSG00000164144\n",
      "Gene name                                 ARFIP1\n",
      "Cancer                         colorectal cancer\n",
      "High                                           0\n",
      "Medium                                         8\n",
      "Low                                            4\n",
      "Not detected                                   0\n",
      "prognostic - favourable                5.754e-05\n",
      "unprognostic - favourable                    NaN\n",
      "prognostic - unfavourable                    NaN\n",
      "unprognostic - unfavourable                  NaN\n",
      "Name: 11089, dtype: object\n",
      "Gene                             ENSG00000167110\n",
      "Gene name                                 GOLGA2\n",
      "Cancer                         colorectal cancer\n",
      "High                                           1\n",
      "Medium                                         3\n",
      "Low                                            5\n",
      "Not detected                                   2\n",
      "prognostic - favourable                      NaN\n",
      "unprognostic - favourable                    NaN\n",
      "prognostic - unfavourable              0.0001643\n",
      "unprognostic - unfavourable                  NaN\n",
      "Name: 11824, dtype: object\n"
     ]
    }
   ],
   "source": [
    "lst=['ENSG00000146083', 'ENSG00000088179', 'ENSG00000022567', 'ENSG00000112511', 'ENSG00000048162', 'ENSG00000184014', 'ENSG00000100271', 'ENSG00000119522', 'ENSG00000101544', 'ENSG00000058272', 'ENSG00000228451', 'ENSG00000167378', 'ENSG00000110713', 'ENSG00000167522', 'ENSG00000174652', 'ENSG00000154727', 'ENSG00000187049', 'ENSG00000100288', 'ENSG00000160741', 'ENSG00000196345', 'ENSG00000168374', 'ENSG00000168234', 'ENSG00000101187', 'ENSG00000070495', 'ENSG00000153207', 'ENSG00000087903', 'ENSG00000116809', 'ENSG00000164463', 'ENSG00000102908', 'ENSG00000169218', 'ENSG00000168066', 'ENSG00000155744', 'ENSG00000068878', 'ENSG00000069424', 'ENSG00000131263', 'ENSG00000137133', 'ENSG00000217128', 'ENSG00000084207', 'ENSG00000189403', 'ENSG00000126012', 'ENSG00000167842', 'ENSG00000145743', 'ENSG00000087206', 'ENSG00000180425', 'ENSG00000102796', 'ENSG00000137449', 'ENSG00000107020', 'ENSG00000109787', 'ENSG00000135049', 'ENSG00000138606', 'ENSG00000170185', 'ENSG00000011258', 'ENSG00000130818', 'ENSG00000135250', 'ENSG00000197050', 'ENSG00000178896', 'ENSG00000157869', 'ENSG00000175387', 'ENSG00000122033', 'ENSG00000170871', 'ENSG00000239305', 'ENSG00000083168', 'ENSG00000151718', 'ENSG00000059145', 'ENSG00000125970', 'ENSG00000169621', 'ENSG00000240344', 'ENSG00000172530', 'ENSG00000100030', 'ENSG00000173757', 'ENSG00000136718', 'ENSG00000139946', 'ENSG00000186283', 'ENSG00000153201', 'ENSG00000231074', 'ENSG00000181513', 'ENSG00000102898', 'ENSG00000177463', 'ENSG00000120899', 'ENSG00000161265', 'ENSG00000138081', 'ENSG00000167110', 'ENSG00000154114', 'ENSG00000172262', 'ENSG00000114446', 'ENSG00000204348', 'ENSG00000121741', 'ENSG00000083896', 'ENSG00000184939', 'ENSG00000171862', 'ENSG00000196387', 'ENSG00000183258', 'ENSG00000166501', 'ENSG00000188313', 'ENSG00000156110', 'ENSG00000176542', 'ENSG00000015475', 'ENSG00000164144', 'ENSG00000168301', 'ENSG00000173273', 'ENSG00000171988', 'ENSG00000187742', 'ENSG00000139631', 'ENSG00000077458', 'ENSG00000133858', 'ENSG00000151466', 'ENSG00000163681', 'ENSG00000184634', 'ENSG00000104885', 'ENSG00000186446', 'ENSG00000166295', 'ENSG00000167220', 'ENSG00000162542', 'ENSG00000128165', 'ENSG00000123684', 'ENSG00000120860', 'ENSG00000176209', 'ENSG00000120071', 'ENSG00000167604', 'ENSG00000141298', 'ENSG00000197329', 'ENSG00000145730', 'ENSG00000147050', 'ENSG00000132406', 'ENSG00000164327', 'ENSG00000145331', 'ENSG00000178974', 'ENSG00000115998', 'ENSG00000139291', 'ENSG00000163960', 'ENSG00000164715', 'ENSG00000146416', 'ENSG00000160584']\n",
    "for i, row in prognostic.iterrows():\n",
    "    if row[0] in lst:\n",
    "        print(row)"
   ]
  },
  {
   "cell_type": "code",
   "execution_count": null,
   "metadata": {},
   "outputs": [],
   "source": []
  }
 ],
 "metadata": {
  "kernelspec": {
   "display_name": "Python 3",
   "language": "python",
   "name": "python3"
  },
  "language_info": {
   "codemirror_mode": {
    "name": "ipython",
    "version": 3
   },
   "file_extension": ".py",
   "mimetype": "text/x-python",
   "name": "python",
   "nbconvert_exporter": "python",
   "pygments_lexer": "ipython3",
   "version": "3.7.4"
  }
 },
 "nbformat": 4,
 "nbformat_minor": 2
}
