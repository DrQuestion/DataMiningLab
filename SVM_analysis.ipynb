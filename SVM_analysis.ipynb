{
 "cells": [
  {
   "cell_type": "code",
   "execution_count": 33,
   "metadata": {},
   "outputs": [],
   "source": [
    "import numpy as np\n",
    "import pandas as pd\n",
    "import model\n",
    "import nessra_genes_sets_generator as ng\n",
    "import mygene \n",
    "# Import train_test_split function\n",
    "from sklearn.model_selection import train_test_split\n",
    "#Import scikit-learn metrics module for accuracy calculation\n",
    "from sklearn import metrics"
   ]
  },
  {
   "cell_type": "markdown",
   "metadata": {},
   "source": [
    "# Matrix and Objective vector preparation"
   ]
  },
  {
   "cell_type": "code",
   "execution_count": 2,
   "metadata": {},
   "outputs": [
    {
     "name": "stdout",
     "output_type": "stream",
     "text": [
      "Matrix shape: (60482, 194)\n",
      "              Gene_ID  TCGA-DM-A28F-01A  TCGA-AD-6889-01A  TCGA-AF-A56L-01A  \\\n",
      "0   ENSG00000270112.3          0.000000          0.004395           0.00000   \n",
      "1  ENSG00000167578.15          3.703513          2.473260           3.00915   \n",
      "\n",
      "   TCGA-RU-A8FL-01A  TCGA-AY-4071-01A  TCGA-CM-4751-01A  TCGA-D5-5538-01A  \\\n",
      "0          0.000000          0.000000          0.004063          0.000000   \n",
      "1          3.857012          5.262676          4.742150          1.759248   \n",
      "\n",
      "   TCGA-AZ-4616-01A  TCGA-DM-A0X9-01A  ...  TCGA-A6-5657-01A  \\\n",
      "0          0.004094          0.008218  ...          0.000000   \n",
      "1          3.576053          4.436359  ...          2.401827   \n",
      "\n",
      "   TCGA-F4-6809-01A  TCGA-A6-6140-01A  TCGA-F4-6805-01A  TCGA-A6-5660-01A  \\\n",
      "0          0.000000          0.000000          0.005296          0.000000   \n",
      "1          3.362906          2.366821          2.250794          2.382724   \n",
      "\n",
      "   TCGA-G4-6311-01A  TCGA-CK-6747-01A  TCGA-AF-3913-01A  TCGA-G4-6299-01A  \\\n",
      "0          0.000000          0.003303          0.000000          0.000000   \n",
      "1          3.574195          2.309596          1.594054          2.712708   \n",
      "\n",
      "   TCGA-DC-4749-01A  \n",
      "0          0.000000  \n",
      "1          4.561052  \n",
      "\n",
      "[2 rows x 194 columns]\n",
      "\n"
     ]
    }
   ],
   "source": [
    "#------------- MATRIX and CLASS VECTOR\n",
    "matrix = pd.read_csv(\"~/Desktop/expressionMatrix.tsv\", sep = \"\\t\", header=0)\n",
    "class_vector = pd.read_csv(\"~/GoogleDrive/DataMiningLab/Model/objective.tsv\", sep = \"\\t\", header=0)\n",
    "print(\"Matrix shape: {}\".format(matrix.shape))\n",
    "print(matrix.head(2))\n",
    "print(\"\")"
   ]
  },
  {
   "cell_type": "code",
   "execution_count": 3,
   "metadata": {},
   "outputs": [
    {
     "name": "stdout",
     "output_type": "stream",
     "text": [
      "Transpose matrix shape: (193, 60482)\n",
      "\n"
     ]
    }
   ],
   "source": [
    "# transposing matrix\n",
    "matrix_t = matrix.T\n",
    "matrix_t.columns = matrix_t.iloc[0]\n",
    "matrix_t = matrix_t.drop(\"Gene_ID\", axis=0)\n",
    "\n",
    "# Resetting column names without the version of ENS\n",
    "col_names = list(matrix_t.columns.values)\n",
    "new_col_names = []\n",
    "for name in col_names:\n",
    "    temp_split = name.split(\".\")\n",
    "    new_col_names.append(temp_split[0])\n",
    "matrix_t.columns = new_col_names\n",
    "print(\"Transpose matrix shape: {}\".format(matrix_t.shape))\n",
    "print(\"\")"
   ]
  },
  {
   "cell_type": "code",
   "execution_count": 4,
   "metadata": {},
   "outputs": [
    {
     "name": "stdout",
     "output_type": "stream",
     "text": [
      "Objective shape: (201, 3)\n",
      "Objective shape after filter for matrix samples: (193, 3)\n",
      "Final vector for classiftibg is a <class 'pandas.core.series.Series'>, first elements: 0    1\n",
      "1    1\n",
      "2    1\n",
      "3    1\n",
      "4    0\n",
      "Name: over2years, dtype: int64\n",
      "\n"
     ]
    }
   ],
   "source": [
    "# class vector \n",
    "print(\"Objective shape: {}\".format(class_vector.shape))    \n",
    "\n",
    "# generating barcode of samples\n",
    "samples_bar = []\n",
    "for name in list(matrix_t.index.values):\n",
    "    samples_bar.append(name[:-4])\n",
    "fil_for_class = class_vector.barcode.isin(samples_bar)\n",
    "class_vector = class_vector[fil_for_class]\n",
    "print(\"Objective shape after filter for matrix samples: {}\".format(class_vector.shape))\n",
    "\n",
    "# Final vector for classifying\n",
    "train = class_vector[\"over2years\"]\n",
    "print(\"Final vector for classiftibg is a {}, first elements: {}\".format(type(train), train[:5]))\n",
    "print(\"\")"
   ]
  },
  {
   "cell_type": "markdown",
   "metadata": {},
   "source": [
    "# NESSRA\n",
    "\n",
    "importing and preparing output genes"
   ]
  },
  {
   "cell_type": "code",
   "execution_count": 7,
   "metadata": {},
   "outputs": [
    {
     "name": "stdout",
     "output_type": "stream",
     "text": [
      "----SVM on NESSRA----\n",
      "\n"
     ]
    }
   ],
   "source": [
    "#----------------- NESSRA -----------------\n",
    "print(\"----SVM on NESSRA----\")\n",
    "print(\"\")\n",
    "# importing files output\n",
    "list_apc = [pd.read_csv('~/GoogleDrive/DataMiningLab/Nessra/160679_Hs.expansion', sep = \",\", header=1),\n",
    "            pd.read_csv('~/GoogleDrive/DataMiningLab/Nessra/160679_Hs.interactions', sep = \",\", header=1)]\n",
    "list_smad4 = [pd.read_csv('~/GoogleDrive/DataMiningLab/Nessra/160680_Hs.expansion', sep = \",\", header=1),\n",
    "            pd.read_csv('~/GoogleDrive/DataMiningLab/Nessra/160680_Hs.interactions', sep = \",\", header=1)]\n",
    "list_kras = [pd.read_csv('~/GoogleDrive/DataMiningLab/Nessra/160812_Hs.expansion', sep = \",\", header=1),\n",
    "            [None]]\n",
    "list_braf = [pd.read_csv('~/GoogleDrive/DataMiningLab/Nessra/147717_Hs.expansion', sep = \",\", header=1),\n",
    "            [None]]\n",
    "\n",
    "# importing tcode conversion matrix\n",
    "tcode_mat = pd.read_csv('~/GoogleDrive/DataMiningLab/hgnc_filtered_anno.csv', sep = \",\", header=0)"
   ]
  },
  {
   "cell_type": "code",
   "execution_count": 85,
   "metadata": {},
   "outputs": [
    {
     "name": "stdout",
     "output_type": "stream",
     "text": [
      "I'm creating tcode-to-Symbol dictionary, this will take a minute\n",
      "Done, dictionary ready\n"
     ]
    }
   ],
   "source": [
    "# Set filter tresholds and max genes per set here!\n",
    "tcode_symbol_dict = ng.tcodeSymbolDictGen(tcode_mat)"
   ]
  },
  {
   "cell_type": "code",
   "execution_count": 86,
   "metadata": {},
   "outputs": [
    {
     "name": "stdout",
     "output_type": "stream",
     "text": [
      "querying 1-500...done.\n",
      "Finished.\n",
      "10 input query terms found dup hits:\n",
      "\t[('NKAPP1', 2), ('LINC00237', 2), ('MIR4500HG', 2), ('AQP4-AS1', 2), ('MIR99AHG', 2), ('FTX', 2), ('\n",
      "13 input query terms found no hit:\n",
      "\t['FAM19A1', 'C8orf46', 'KIAA1468', 'TROVE2', 'FAM57B', 'KIAA1107', 'CTAGE5', 'C14orf159', 'MKL2', 'M\n",
      "Pass \"returnall=True\" to return complete lists of duplicate or missing query terms.\n",
      "querying 1-500...done.\n",
      "Finished.\n",
      "25 input query terms found dup hits:\n",
      "\t[('SDAD1P1', 2), ('MIR4523', 2), ('CHCHD2P6', 2), ('MIR99AHG', 2), ('HCG25', 8), ('URB1-AS1', 2), ('\n",
      "8 input query terms found no hit:\n",
      "\t['LINC00441', 'PROSC', 'ZCCHC11', 'FAM208A', 'HEXDC', 'SEPT10', 'MARCH5', 'CARS']\n",
      "Pass \"returnall=True\" to return complete lists of duplicate or missing query terms.\n",
      "querying 1-500...done.\n",
      "Finished.\n",
      "10 input query terms found dup hits:\n",
      "\t[('LY6G6E', 8), ('MIR21', 2), ('HNF1A-AS1', 2), ('GLIS3-AS1', 2), ('GUSBP6', 2), ('FTH1P23', 2), ('L\n",
      "7 input query terms found no hit:\n",
      "\t['KIAA0430', 'ISPD', 'ALS2CR11', 'PARK2', 'MKL2', 'H1F0', 'FAM134B']\n",
      "Pass \"returnall=True\" to return complete lists of duplicate or missing query terms.\n",
      "querying 1-468...done.\n",
      "Finished.\n",
      "7 input query terms found dup hits:\n",
      "\t[('HCG18', 8), ('MIR4727', 2), ('PCBP1-AS1', 2), ('POLR2J4', 2), ('DLEU2', 2), ('LINC00173', 2), ('S\n",
      "12 input query terms found no hit:\n",
      "\t['CECR5', 'MARCH6', 'SSFA2', 'FAM49A', '2019-08-03 00:00:00', 'DIRC2', '2019-08-02 00:00:00', 'RFWD2\n",
      "Pass \"returnall=True\" to return complete lists of duplicate or missing query terms.\n",
      "Len of set apc: 502\n",
      "Len of set smad4: 545\n",
      "Len of set kras: 528\n",
      "Len of set braf: 541\n"
     ]
    }
   ],
   "source": [
    "# Constructing sets\n",
    "freq_treshold = 0.3\n",
    "n_genes_per_file = 500\n",
    "\n",
    "\n",
    "set_apc = ng.setGen(list_apc[0], list_apc[1],freq_treshold, n_genes_per_file, tcode_symbol_dict, useIntFile=True)\n",
    "set_smad4 = ng.setGen(list_smad4[0], list_smad4[1], freq_treshold, n_genes_per_file, tcode_symbol_dict, useIntFile=False)\n",
    "set_kras = ng.setGen(list_kras[0], list_kras[1], freq_treshold, n_genes_per_file, tcode_symbol_dict, useIntFile=False)\n",
    "set_braf = ng.setGen(list_braf[0], list_braf[1], freq_treshold, n_genes_per_file, tcode_symbol_dict, useIntFile=False)\n",
    "\n",
    "list_of_sets = [set_apc, set_smad4, set_braf, set_braf ]\n",
    "print(\"Len of set apc: {}\".format(len(set_apc)))\n",
    "print(\"Len of set smad4: {}\".format(len(set_smad4)))\n",
    "print(\"Len of set kras: {}\".format(len(set_kras)))\n",
    "print(\"Len of set braf: {}\".format(len(set_braf)))"
   ]
  },
  {
   "cell_type": "code",
   "execution_count": 87,
   "metadata": {},
   "outputs": [
    {
     "name": "stdout",
     "output_type": "stream",
     "text": [
      "Transpose matrix filtered shape: (193, 1352)\n",
      "                 ENSG00000146083 ENSG00000182141 ENSG00000088179  \\\n",
      "TCGA-DM-A28F-01A         24.7199         1.78346         1.86226   \n",
      "TCGA-AD-6889-01A         11.7048         1.07085         0.70781   \n",
      "\n",
      "                 ENSG00000276644 ENSG00000179833 ENSG00000022567  \\\n",
      "TCGA-DM-A28F-01A         8.93392          3.9756         5.12241   \n",
      "TCGA-AD-6889-01A         4.85309         5.20797         2.86845   \n",
      "\n",
      "                 ENSG00000114861 ENSG00000138193 ENSG00000112511  \\\n",
      "TCGA-DM-A28F-01A          4.2305         2.21671         7.49493   \n",
      "TCGA-AD-6889-01A         6.08894         2.43622         13.0324   \n",
      "\n",
      "                 ENSG00000077044  ... ENSG00000111144 ENSG00000224531  \\\n",
      "TCGA-DM-A28F-01A         6.58233  ...         8.42249         6.12404   \n",
      "TCGA-AD-6889-01A         4.72495  ...         13.9883         3.13717   \n",
      "\n",
      "                 ENSG00000152520 ENSG00000160584 ENSG00000164190  \\\n",
      "TCGA-DM-A28F-01A         8.93673         2.58768         5.17211   \n",
      "TCGA-AD-6889-01A         5.70338         2.49796          3.5269   \n",
      "\n",
      "                 ENSG00000149639 ENSG00000133059 ENSG00000148704  \\\n",
      "TCGA-DM-A28F-01A         5.29384         1.74248        0.905268   \n",
      "TCGA-AD-6889-01A        0.463789         1.28633               0   \n",
      "\n",
      "                 ENSG00000107863 ENSG00000009694  \n",
      "TCGA-DM-A28F-01A         5.49696      0.00259619  \n",
      "TCGA-AD-6889-01A         5.57418               0  \n",
      "\n",
      "[2 rows x 1352 columns]\n"
     ]
    }
   ],
   "source": [
    "ns_mat = model.select_table(matrix_t, list_of_sets)\n",
    "print(\"Transpose matrix filtered shape: {}\".format(ns_mat.shape))\n",
    "print(ns_mat.head(2))"
   ]
  },
  {
   "cell_type": "code",
   "execution_count": null,
   "metadata": {},
   "outputs": [],
   "source": []
  },
  {
   "cell_type": "markdown",
   "metadata": {},
   "source": [
    "# SVM analysis\n",
    "\n",
    "splitting dataset, training model and evaluation"
   ]
  },
  {
   "cell_type": "code",
   "execution_count": 88,
   "metadata": {},
   "outputs": [],
   "source": [
    "#------------ SVM ANALYSIS ------------\n",
    "\n",
    "# Split dataset into training set and test set\n",
    "X_train, X_test, y_train, y_test = train_test_split(ns_mat.values, train.values, test_size=0.4,random_state=300) # 80% training and 20% test"
   ]
  },
  {
   "cell_type": "code",
   "execution_count": 90,
   "metadata": {},
   "outputs": [
    {
     "data": {
      "text/plain": [
       "(115, 1352)"
      ]
     },
     "execution_count": 90,
     "metadata": {},
     "output_type": "execute_result"
    }
   ],
   "source": [
    "X_train.shape\n",
    "\n",
    "\n",
    "\n"
   ]
  },
  {
   "cell_type": "code",
   "execution_count": 91,
   "metadata": {},
   "outputs": [
    {
     "name": "stdout",
     "output_type": "stream",
     "text": [
      "{'C': 10.0, 'gamma': 1.0}\n",
      "fit_time 0.04608305295308431\n",
      "score_time 0.06199312210083008\n",
      "test_accuracy 0.7300944669365723\n",
      "test_f1 0.8437012263099221\n",
      "test_precision 0.7300944669365723\n",
      "test_recall 1.0\n"
     ]
    }
   ],
   "source": [
    "# train the model\n",
    "clf_ns = model.training(X_train, y_train)\n",
    "\n",
    "y_pred = clf_ns.predict(X_test)\n"
   ]
  },
  {
   "cell_type": "code",
   "execution_count": 92,
   "metadata": {},
   "outputs": [
    {
     "data": {
      "text/plain": [
       "array([1, 1, 1, 1, 1, 1, 1, 1, 1, 1, 1, 1, 1, 1, 1, 1, 1, 1, 1, 1, 1, 1,\n",
       "       1, 1, 1, 1, 1, 1, 1, 1, 1, 1, 1, 1, 1, 1, 1, 1, 1, 1, 1, 1, 1, 1,\n",
       "       1, 1, 1, 1, 1, 1, 1, 1, 1, 1, 1, 1, 1, 1, 1, 1, 1, 1, 1, 1, 1, 1,\n",
       "       1, 1, 1, 1, 1, 1, 1, 1, 1, 1, 1, 1])"
      ]
     },
     "execution_count": 92,
     "metadata": {},
     "output_type": "execute_result"
    }
   ],
   "source": [
    "y_pred"
   ]
  },
  {
   "cell_type": "code",
   "execution_count": 93,
   "metadata": {},
   "outputs": [
    {
     "data": {
      "text/plain": [
       "0.8461538461538461"
      ]
     },
     "execution_count": 93,
     "metadata": {},
     "output_type": "execute_result"
    }
   ],
   "source": [
    "zeros_in_test = len([x for x in y_test if x<1])\n",
    "1-zeros_in_test/len(y_test)"
   ]
  },
  {
   "cell_type": "code",
   "execution_count": 34,
   "metadata": {},
   "outputs": [
    {
     "name": "stdout",
     "output_type": "stream",
     "text": [
      "--- Evaluating test set ---\n",
      "Test matrix shape: (39, 82)  \n",
      "Test class vector: 39 \n",
      "\n",
      "Frequency filter used in NESSRA output: 0.9, final number of genes: 82\n",
      "\n",
      "Accuracy: 0.8205128205128205\n",
      "Precision: 0.8205128205128205\n",
      "Recall: 1.0\n"
     ]
    }
   ],
   "source": [
    "print(\"--- Evaluating test set ---\")\n",
    "print(\"Test matrix shape: {}  \\nTest class vector: {} \\n\".format(X_test.shape, len(y_test)))\n",
    "print(\"Frequency filter used in NESSRA output: {}, final number of genes: {}\". format(freq_treshold, X_test.shape[1]))\n",
    "print(\"\")\n",
    "# Model Accuracy: how often is the classifier correct?\n",
    "print(\"Accuracy:\",metrics.accuracy_score(y_test, y_pred))\n",
    "\n",
    "# Model Precision: what percentage of positive tuples are labeled as such?\n",
    "print(\"Precision:\",metrics.precision_score(y_test, y_pred))\n",
    "\n",
    "# Model Recall: what percentage of positive tuples are labelled as such?\n",
    "print(\"Recall:\",metrics.recall_score(y_test, y_pred))"
   ]
  },
  {
   "cell_type": "markdown",
   "metadata": {},
   "source": [
    "### Symbol gene printing"
   ]
  },
  {
   "cell_type": "code",
   "execution_count": null,
   "metadata": {},
   "outputs": [],
   "source": [
    "# Save genes as SYMBOL\n",
    "\n",
    "ens_gene_list = list(ns_mat.columns.values)\n",
    "mg = mygene.MyGeneInfo()\n",
    "symbol_genes = mg.querymany(ens_gene_list, scopes='ensembl.gene', fields='symbol', species='human')\n",
    "gene_list = []\n",
    "for el in symbol_genes:\n",
    "    if \"symbol\" in el:\n",
    "        gene_list.append(el[\"symbol\"])\n",
    "print(\"len of ens genes: {}, len of symbol genes: {}\".format(len(ens_gene_list), len(gene_list)))\n",
    "print(', '.join(gene_list))"
   ]
  },
  {
   "cell_type": "code",
   "execution_count": 94,
   "metadata": {},
   "outputs": [
    {
     "data": {
      "text/plain": [
       "GaussianNB(priors=None, var_smoothing=1e-09)"
      ]
     },
     "execution_count": 94,
     "metadata": {},
     "output_type": "execute_result"
    }
   ],
   "source": [
    "#Import Gaussian Naive Bayes model\n",
    "from sklearn.naive_bayes import GaussianNB\n",
    "\n",
    "#Create a Gaussian Classifier\n",
    "model = GaussianNB()\n",
    "\n",
    "# Train the model using the training sets\n",
    "model.fit(X_train,y_train)\n",
    "\n"
   ]
  },
  {
   "cell_type": "code",
   "execution_count": 96,
   "metadata": {},
   "outputs": [
    {
     "name": "stdout",
     "output_type": "stream",
     "text": [
      "Predicted Value: [1 0 0 1 1 1 0 0 1 1 1 1 0 0 0 1 1 0 0 1 1 1 0 0 1 1 1 0 1 0 1 1 1 0 0 0 0\n",
      " 0 0 1 0 1 0 0 1 0 0 1 1 1 0 0 0 1 1 1 1 0 0 1 1 1 1 1 1 1 0 0 1 1 0 0 1 0\n",
      " 1 1 0 1]\n"
     ]
    }
   ],
   "source": [
    "#Predict Output\n",
    "predicted= model.predict(X_test) # 0:Overcast, 2:Mild\n",
    "print (\"Predicted Value:\", predicted)"
   ]
  },
  {
   "cell_type": "code",
   "execution_count": 97,
   "metadata": {},
   "outputs": [
    {
     "name": "stdout",
     "output_type": "stream",
     "text": [
      "Accuracy: 0.5512820512820513\n"
     ]
    }
   ],
   "source": [
    "# Model Accuracy: how often is the classifier correct?\n",
    "print(\"Accuracy:\",metrics.accuracy_score(y_test, predicted))"
   ]
  },
  {
   "cell_type": "code",
   "execution_count": 115,
   "metadata": {},
   "outputs": [
    {
     "data": {
      "text/plain": [
       "array([441.806990731, 567.5380872759999, 685.549711422, 534.484250352,\n",
       "       366.21296002300005, 499.98996420099996, 866.272422593,\n",
       "       703.102372768, 510.40575742699997, 587.684874819, 5608.79645022,\n",
       "       493.508861973, 597.695131808, 827.4671856010001, 898.2729642989999,\n",
       "       528.546901483, 531.7493570319999, 618.130040601, 420.672490477,\n",
       "       575.04699302, 631.072831163, 579.543994593, 593.761776235,\n",
       "       469.132029721, 583.407769636, 555.8327420830001, 614.882584246,\n",
       "       555.659307257, 698.1660873110001, 505.442207005, 554.084706771,\n",
       "       618.083714312, 815.80986059, 861.228703387, 366.483413064,\n",
       "       951.0393376510001, 804.1958139689999, 835.10557903, 437.60772505,\n",
       "       632.1768553640001, 652.67587719, 501.679127561, 364.87406221300006,\n",
       "       911.9242060060001, 468.21223978300003, 539.117915539,\n",
       "       564.219586547, 728.901777703, 497.44384709300004,\n",
       "       331.79619383799997, 472.165057003, 1192.21039593, 583.875470205,\n",
       "       610.895387473, 332.508753895, 507.02970945, 551.8828972030001,\n",
       "       544.39399158, 372.94253858400003, 588.576011935, 619.296108849,\n",
       "       354.91745244, 720.984005423, 643.312500872, 407.329350395,\n",
       "       632.716552963, 426.997194583, 529.3256677769999, 735.345360783,\n",
       "       545.20180435, 664.347829446, 702.9744117519998, 709.44201738,\n",
       "       686.095964132, 565.254369704, 458.023065979, 385.25395287099997,\n",
       "       681.57728599, 665.155847316, 1119.8363126, 377.340587951,\n",
       "       842.582838948, 661.260738306, 662.288723806, 587.9396883969999,\n",
       "       524.8678584930001, 652.59493399, 546.217443027, 439.502709104,\n",
       "       660.002676639, 549.821447361, 446.63321475099997, 514.949414354,\n",
       "       517.008126902, 295.848440505, 406.374526409, 865.9338008269998,\n",
       "       753.664088977, 1162.6414929000002, 583.356877243,\n",
       "       437.49359192699995, 657.344226767, 626.995728726, 585.299526549,\n",
       "       545.687139548, 717.613258072, 441.413301794, 598.5705042530001,\n",
       "       797.56937503, 777.835172832, 469.0802176, 572.3277719490001,\n",
       "       725.839254602, 809.463914431, 532.5047646419999, 692.143967278,\n",
       "       444.755321373, 616.081891418, 470.411299511, 717.550724084,\n",
       "       711.35531562, 370.228537175, 644.532148869, 596.6932879999998,\n",
       "       389.554720225, 619.8032293159999, 831.610464596, 694.909680886,\n",
       "       398.29541266300004, 661.070865931, 741.493064262, 666.399450044,\n",
       "       570.403297157, 864.4259557969998, 1162.68727805, 570.755828865,\n",
       "       691.663788687, 750.058232332, 722.345852183, 666.870878943,\n",
       "       484.55755241400004, 798.487438323, 636.869955226, 512.683482165,\n",
       "       836.90041256, 542.47495282, 477.241246889, 534.563291541,\n",
       "       1010.72526479, 607.102419744, 586.805614961, 460.73720622699994,\n",
       "       442.879737005, 731.084206335, 458.74790258300004, 541.636616864,\n",
       "       490.50410270300006, 732.9441869660001, 606.659128345,\n",
       "       560.708603727, 735.788631322, 1027.13636617, 966.9740295239999,\n",
       "       444.67254732699996, 673.994093089, 691.7223904030002, 589.68053879,\n",
       "       480.478801556, 920.941264831, 526.865345601, 756.994456305,\n",
       "       389.552772989, 699.8820601880002, 614.487638379,\n",
       "       470.82974237800005, 852.541342322, 626.227813281, 389.352454308,\n",
       "       277.225095483, 867.662443038, 702.8609431210001, 901.5766318130001,\n",
       "       584.448550326, 701.6418388999998, 456.68767485, 503.69644160800004,\n",
       "       709.302909284, 709.296957264, 703.00929652, 547.805123914,\n",
       "       622.73380525, 723.906282591, 503.09627998599996], dtype=object)"
      ]
     },
     "execution_count": 115,
     "metadata": {},
     "output_type": "execute_result"
    }
   ],
   "source": []
  },
  {
   "cell_type": "code",
   "execution_count": 99,
   "metadata": {},
   "outputs": [
    {
     "name": "stdout",
     "output_type": "stream",
     "text": [
      "Help on function fmin in module cma.evolution_strategy:\n",
      "\n",
      "fmin(objective_function, x0, sigma0, options=None, args=(), gradf=None, restarts=0, restart_from_best='False', incpopsize=2, eval_initial_x=False, parallel_objective=None, noise_handler=None, noise_change_sigma_exponent=1, noise_kappa_exponent=0, bipop=False, callback=None)\n",
      "    functional interface to the stochastic optimizer CMA-ES\n",
      "    for non-convex function minimization.\n",
      "    \n",
      "    Calling Sequences\n",
      "    =================\n",
      "    ``fmin(objective_function, x0, sigma0)``\n",
      "        minimizes ``objective_function`` starting at ``x0`` and with\n",
      "        standard deviation ``sigma0`` (step-size)\n",
      "    ``fmin(objective_function, x0, sigma0, options={'ftarget': 1e-5})``\n",
      "        minimizes ``objective_function`` up to target function value 1e-5,\n",
      "        which is typically useful for benchmarking.\n",
      "    ``fmin(objective_function, x0, sigma0, args=('f',))``\n",
      "        minimizes ``objective_function`` called with an additional\n",
      "        argument ``'f'``.\n",
      "    ``fmin(objective_function, x0, sigma0, options={'ftarget':1e-5, 'popsize':40})``\n",
      "        uses additional options ``ftarget`` and ``popsize``\n",
      "    ``fmin(objective_function, esobj, None, options={'maxfevals': 1e5})``\n",
      "        uses the `CMAEvolutionStrategy` object instance ``esobj`` to\n",
      "        optimize ``objective_function``, similar to ``esobj.optimize()``.\n",
      "    \n",
      "    Arguments\n",
      "    =========\n",
      "    ``objective_function``\n",
      "        called as ``objective_function(x, *args)`` to be minimized.\n",
      "        ``x`` is a one-dimensional `numpy.ndarray`. See also the\n",
      "        `parallel_objective` argument.\n",
      "        ``objective_function`` can return `numpy.NaN`, which is\n",
      "        interpreted as outright rejection of solution ``x`` and invokes\n",
      "        an immediate resampling and (re-)evaluation of a new solution\n",
      "        not counting as function evaluation. The attribute\n",
      "        ``variable_annotations`` is passed into the\n",
      "        ``CMADataLogger.persistent_communication_dict``.\n",
      "    ``x0``\n",
      "        list or `numpy.ndarray`, initial guess of minimum solution\n",
      "        before the application of the geno-phenotype transformation\n",
      "        according to the ``transformation`` option.  It can also be\n",
      "        a string holding a Python expression that is evaluated\n",
      "        to yield the initial guess - this is important in case\n",
      "        restarts are performed so that they start from different\n",
      "        places.  Otherwise ``x0`` can also be a `cma.CMAEvolutionStrategy`\n",
      "        object instance, in that case ``sigma0`` can be ``None``.\n",
      "    ``sigma0``\n",
      "        scalar, initial standard deviation in each coordinate.\n",
      "        ``sigma0`` should be about 1/4th of the search domain width\n",
      "        (where the optimum is to be expected). The variables in\n",
      "        ``objective_function`` should be scaled such that they\n",
      "        presumably have similar sensitivity.\n",
      "        See also `ScaleCoordinates`.\n",
      "    ``options``\n",
      "        a dictionary with additional options passed to the constructor\n",
      "        of class ``CMAEvolutionStrategy``, see ``cma.CMAOptions`` ()\n",
      "        for a list of available options.\n",
      "    ``args=()``\n",
      "        arguments to be used to call the ``objective_function``\n",
      "    ``gradf=None``\n",
      "        gradient of f, where ``len(gradf(x, *args)) == len(x)``.\n",
      "        ``gradf`` is called once in each iteration if\n",
      "        ``gradf is not None``.\n",
      "    ``restarts=0``\n",
      "        number of restarts with increasing population size, see also\n",
      "        parameter ``incpopsize``, implementing the IPOP-CMA-ES restart\n",
      "        strategy, see also parameter ``bipop``; to restart from\n",
      "        different points (recommended), pass ``x0`` as a string.\n",
      "    ``restart_from_best=False``\n",
      "        which point to restart from\n",
      "    ``incpopsize=2``\n",
      "        multiplier for increasing the population size ``popsize`` before\n",
      "        each restart\n",
      "    ``parallel_objective``\n",
      "        an objective function that accepts a list of `numpy.ndarray` as\n",
      "        input and returns a `list`, which is mostly used instead of\n",
      "        `objective_function`, but for the initial (also initial\n",
      "        elitist) and the final evaluations. If ``parallel_objective``\n",
      "        is given, the ``objective_function`` (first argument) may be\n",
      "        ``None``.\n",
      "    ``eval_initial_x=None``\n",
      "        evaluate initial solution, for ``None`` only with elitist option\n",
      "    ``noise_handler=None``\n",
      "        a ``NoiseHandler`` class or instance or ``None``. Example:\n",
      "        ``cma.fmin(f, 6 * [1], 1, noise_handler=cma.NoiseHandler(6))``\n",
      "        see ``help(cma.NoiseHandler)``.\n",
      "    ``noise_change_sigma_exponent=1``\n",
      "        exponent for the sigma increment provided by the noise handler for\n",
      "        additional noise treatment. 0 means no sigma change.\n",
      "    ``noise_evaluations_as_kappa=0``\n",
      "        instead of applying reevaluations, the \"number of evaluations\"\n",
      "        is (ab)used as scaling factor kappa (experimental).\n",
      "    ``bipop=False``\n",
      "        if `True`, run as BIPOP-CMA-ES; BIPOP is a special restart\n",
      "        strategy switching between two population sizings - small\n",
      "        (like the default CMA, but with more focused search) and\n",
      "        large (progressively increased as in IPOP). This makes the\n",
      "        algorithm perform well both on functions with many regularly\n",
      "        or irregularly arranged local optima (the latter by frequently\n",
      "        restarting with small populations).  For the `bipop` parameter\n",
      "        to actually take effect, also select non-zero number of\n",
      "        (IPOP) restarts; the recommended setting is ``restarts<=9``\n",
      "        and `x0` passed as a string using `numpy.rand` to generate\n",
      "        initial solutions. Note that small-population restarts\n",
      "        do not count into the total restart count.\n",
      "    ``callback=None``\n",
      "        `callable` or list of callables called at the end of each\n",
      "        iteration with the current `CMAEvolutionStrategy` instance\n",
      "        as argument.\n",
      "    \n",
      "    Optional Arguments\n",
      "    ==================\n",
      "    All values in the `options` dictionary are evaluated if they are of\n",
      "    type `str`, besides `verb_filenameprefix`, see class `CMAOptions` for\n",
      "    details. The full list is available by calling ``cma.CMAOptions()``.\n",
      "    \n",
      "    >>> import cma\n",
      "    >>> cma.CMAOptions()  #doctest: +ELLIPSIS\n",
      "    {...\n",
      "    \n",
      "    Subsets of options can be displayed, for example like\n",
      "    ``cma.CMAOptions('tol')``, or ``cma.CMAOptions('bound')``,\n",
      "    see also class `CMAOptions`.\n",
      "    \n",
      "    Return\n",
      "    ======\n",
      "    Return the list provided in `CMAEvolutionStrategy.result` appended\n",
      "    with termination conditions, an `OOOptimizer` and a `BaseDataLogger`::\n",
      "    \n",
      "        res = es.result + (es.stop(), es, logger)\n",
      "    \n",
      "    where\n",
      "        - ``res[0]`` (``xopt``) -- best evaluated solution\n",
      "        - ``res[1]`` (``fopt``) -- respective function value\n",
      "        - ``res[2]`` (``evalsopt``) -- respective number of function evaluations\n",
      "        - ``res[3]`` (``evals``) -- number of overall conducted objective function evaluations\n",
      "        - ``res[4]`` (``iterations``) -- number of overall conducted iterations\n",
      "        - ``res[5]`` (``xmean``) -- mean of the final sample distribution\n",
      "        - ``res[6]`` (``stds``) -- effective stds of the final sample distribution\n",
      "        - ``res[-3]`` (``stop``) -- termination condition(s) in a dictionary\n",
      "        - ``res[-2]`` (``cmaes``) -- class `CMAEvolutionStrategy` instance\n",
      "        - ``res[-1]`` (``logger``) -- class `CMADataLogger` instance\n",
      "    \n",
      "    Details\n",
      "    =======\n",
      "    This function is an interface to the class `CMAEvolutionStrategy`. The\n",
      "    latter class should be used when full control over the iteration loop\n",
      "    of the optimizer is desired.\n",
      "    \n",
      "    Examples\n",
      "    ========\n",
      "    The following example calls `fmin` optimizing the Rosenbrock function\n",
      "    in 10-D with initial solution 0.1 and initial step-size 0.5. The\n",
      "    options are specified for the usage with the `doctest` module.\n",
      "    \n",
      "    >>> import cma\n",
      "    >>> # cma.CMAOptions()  # returns all possible options\n",
      "    >>> options = {'CMA_diagonal':100, 'seed':1234, 'verb_time':0}\n",
      "    >>>\n",
      "    >>> res = cma.fmin(cma.ff.rosen, [0.1] * 10, 0.3, options)  #doctest: +ELLIPSIS\n",
      "    (5_w,10)-aCMA-ES (mu_w=3.2,w_1=45%) in dimension 10 (seed=1234...)\n",
      "       Covariance matrix is diagonal for 100 iterations (1/ccov=26...\n",
      "    Iterat #Fevals   function value  axis ratio  sigma ...\n",
      "        1     10 ...\n",
      "    termination on tolfun=1e-11 ...\n",
      "    final/bestever f-value = ...\n",
      "    >>> assert res[1] < 1e-12  # f-value of best found solution\n",
      "    >>> assert res[2] < 8000  # evaluations\n",
      "    \n",
      "    The above call is pretty much equivalent with the slightly more\n",
      "    verbose call::\n",
      "    \n",
      "        res = cma.CMAEvolutionStrategy([0.1] * 10, 0.3,\n",
      "                    options=options).optimize(cma.ff.rosen).result\n",
      "    \n",
      "    where `optimize` returns a `CMAEvolutionStrategy` instance. The\n",
      "    following example calls `fmin` optimizing the Rastrigin function\n",
      "    in 3-D with random initial solution in [-2,2], initial step-size 0.5\n",
      "    and the BIPOP restart strategy (that progressively increases population).\n",
      "    The options are specified for the usage with the `doctest` module.\n",
      "    \n",
      "    >>> import cma\n",
      "    >>> # cma.CMAOptions()  # returns all possible options\n",
      "    >>> options = {'seed':12345, 'verb_time':0, 'ftarget': 1e-8}\n",
      "    >>>\n",
      "    >>> res = cma.fmin(cma.ff.rastrigin, '2. * np.random.rand(3) - 1', 0.5,\n",
      "    ...                options, restarts=9, bipop=True)  #doctest: +ELLIPSIS\n",
      "    (3_w,7)-aCMA-ES (mu_w=2.3,w_1=58%) in dimension 3 (seed=12345...\n",
      "    \n",
      "    In either case, the method::\n",
      "    \n",
      "        cma.plot();\n",
      "    \n",
      "    (based on `matplotlib.pyplot`) produces a plot of the run and, if\n",
      "    necessary::\n",
      "    \n",
      "        cma.s.figshow()\n",
      "    \n",
      "    shows the plot in a window. Finally::\n",
      "    \n",
      "        cma.s.figsave('myfirstrun')  # figsave from matplotlib.pyplot\n",
      "    \n",
      "    will save the figure in a png.\n",
      "    \n",
      "    We can use the gradient like\n",
      "    \n",
      "    >>> import cma\n",
      "    >>> res = cma.fmin(cma.ff.rosen, np.zeros(10), 0.1,\n",
      "    ...             options = {'ftarget':1e-8,},\n",
      "    ...             gradf=cma.ff.grad_rosen,\n",
      "    ...         )  #doctest: +ELLIPSIS\n",
      "    (5_w,...\n",
      "    >>> assert cma.ff.rosen(res[0]) < 1e-8\n",
      "    >>> assert res[2] < 3600  # 1% are > 3300\n",
      "    >>> assert res[3] < 3600  # 1% are > 3300\n",
      "    \n",
      "    If solution can only be comparatively ranked, either use\n",
      "    `CMAEvolutionStrategy` directly or the objective accepts a list\n",
      "    of solutions as input:\n",
      "    \n",
      "    >>> def parallel_sphere(X): return [cma.ff.sphere(x) for x in X]\n",
      "    >>> x, es = cma.fmin2(None, 3 * [0], 0.1, {'verbose': -9},\n",
      "    ...                   parallel_objective=parallel_sphere)\n",
      "    >>> assert es.result[1] < 1e-9\n",
      "    \n",
      "    :See also: `CMAEvolutionStrategy`, `OOOptimizer.optimize`, `plot`,\n",
      "        `CMAOptions`, `scipy.optimize.fmin`\n",
      "\n"
     ]
    }
   ],
   "source": [
    "\n"
   ]
  },
  {
   "cell_type": "code",
   "execution_count": null,
   "metadata": {},
   "outputs": [],
   "source": []
  }
 ],
 "metadata": {
  "kernelspec": {
   "display_name": "Python 3",
   "language": "python",
   "name": "python3"
  },
  "language_info": {
   "codemirror_mode": {
    "name": "ipython",
    "version": 3
   },
   "file_extension": ".py",
   "mimetype": "text/x-python",
   "name": "python",
   "nbconvert_exporter": "python",
   "pygments_lexer": "ipython3",
   "version": "3.7.4"
  }
 },
 "nbformat": 4,
 "nbformat_minor": 2
}
