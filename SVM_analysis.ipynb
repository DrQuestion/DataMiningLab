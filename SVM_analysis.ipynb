{
 "cells": [
  {
   "cell_type": "code",
   "execution_count": 1,
   "metadata": {},
   "outputs": [],
   "source": [
    "import numpy as np\n",
    "import pandas as pd\n",
    "import model\n",
    "import nessra_genes_sets_generator as ng\n",
    "import mygene \n",
    "# Import train_test_split function\n",
    "from sklearn.model_selection import train_test_split\n",
    "#Import scikit-learn metrics module for accuracy calculation\n",
    "from sklearn import metrics"
   ]
  },
  {
   "cell_type": "markdown",
   "metadata": {},
   "source": [
    "# Matrix and Objective vector preparation"
   ]
  },
  {
   "cell_type": "code",
   "execution_count": 2,
   "metadata": {},
   "outputs": [
    {
     "name": "stdout",
     "output_type": "stream",
     "text": [
      "Matrix shape: (60482, 103)\n",
      "              Gene_ID  TCGA-DM-A28F-01A  TCGA-AD-6889-01A  TCGA-AF-A56L-01A  \\\n",
      "0   ENSG00000270112.3          0.000000          0.004395           0.00000   \n",
      "1  ENSG00000167578.15          3.703513          2.473260           3.00915   \n",
      "\n",
      "   TCGA-AY-4071-01A  TCGA-D5-5538-01A  TCGA-AZ-4616-01A  TCGA-DM-A0X9-01A  \\\n",
      "0          0.000000          0.000000          0.004094          0.008218   \n",
      "1          5.262676          1.759248          3.576053          4.436359   \n",
      "\n",
      "   TCGA-A6-A567-01A  TCGA-D5-5537-01A  ...  TCGA-G5-6233-01A  \\\n",
      "0          0.000000          0.000000  ...          0.004409   \n",
      "1          3.441687          2.544031  ...          3.186217   \n",
      "\n",
      "   TCGA-DY-A1DD-01A  TCGA-NH-A8F8-01A  TCGA-AZ-6607-01A  TCGA-5M-AAT6-01A  \\\n",
      "0          0.000000          0.000000          0.000000          0.000000   \n",
      "1          4.406993          3.953229          1.713761          2.499009   \n",
      "\n",
      "   TCGA-DM-A1DB-01A  TCGA-F5-6863-01A  TCGA-F4-6809-01A  TCGA-AF-3913-01A  \\\n",
      "0          0.002767          0.003548          0.000000          0.000000   \n",
      "1          2.582000          2.112157          3.362906          1.594054   \n",
      "\n",
      "   TCGA-G4-6299-01A  \n",
      "0          0.000000  \n",
      "1          2.712708  \n",
      "\n",
      "[2 rows x 103 columns]\n",
      "\n"
     ]
    }
   ],
   "source": [
    "#------------- MATRIX and CLASS VECTOR\n",
    "matrix = pd.read_csv(\"~/Desktop/expressionMatrix5.tsv\", sep = \"\\t\", header=0)\n",
    "#class_vector = pd.read_csv(\"~/GoogleDrive/DataMiningLab/Model/objective.tsv\", sep = \"\\t\", header=0)\n",
    "print(\"Matrix shape: {}\".format(matrix.shape))\n",
    "print(matrix.head(2))\n",
    "print(\"\")"
   ]
  },
  {
   "cell_type": "code",
   "execution_count": null,
   "metadata": {},
   "outputs": [],
   "source": []
  },
  {
   "cell_type": "code",
   "execution_count": 3,
   "metadata": {},
   "outputs": [
    {
     "name": "stdout",
     "output_type": "stream",
     "text": [
      "Transpose matrix shape: (102, 60482)\n",
      "\n"
     ]
    }
   ],
   "source": [
    "# transposing matrix\n",
    "matrix_t = matrix.T\n",
    "matrix_t.columns = matrix_t.iloc[0]\n",
    "matrix_t = matrix_t.drop(\"Gene_ID\", axis=0)\n",
    "\n",
    "# Resetting column names without the version of ENS\n",
    "col_names = list(matrix_t.columns.values)\n",
    "new_col_names = []\n",
    "for name in col_names:\n",
    "    temp_split = name.split(\".\")\n",
    "    new_col_names.append(temp_split[0])\n",
    "matrix_t.columns = new_col_names\n",
    "print(\"Transpose matrix shape: {}\".format(matrix_t.shape))\n",
    "print(\"\")"
   ]
  },
  {
   "cell_type": "code",
   "execution_count": 4,
   "metadata": {},
   "outputs": [
    {
     "name": "stdout",
     "output_type": "stream",
     "text": [
      "Objective shape: (104, 3)\n",
      "0.6634615384615384\n",
      "104\n",
      "Objective shape after filter for matrix samples: (102, 3)\n",
      "Final vector for classiftibg is a <class 'pandas.core.series.Series'>, first elements: 0    1\n",
      "1    1\n",
      "2    0\n",
      "3    0\n",
      "4    1\n",
      "Name: over2years, dtype: int64\n",
      "\n"
     ]
    }
   ],
   "source": [
    "# class vector \n",
    "class_vector = pd.read_csv(\"~/Desktop/objective.tsv\", sep = \"\\t\", header=0)\n",
    "print(\"Objective shape: {}\".format(class_vector.shape))  \n",
    "\n",
    "print(len([x for x in class_vector[\"over2years\"] if x <1])/len(class_vector[\"over2years\"]))\n",
    "print(len(class_vector[\"over2years\"]))\n",
    "\n",
    "# generating barcode of samples\n",
    "samples_bar = []\n",
    "for name in list(matrix_t.index.values):\n",
    "    samples_bar.append(name[:-4])\n",
    "fil_for_class = class_vector.barcode.isin(samples_bar)\n",
    "class_vector = class_vector[fil_for_class]\n",
    "print(\"Objective shape after filter for matrix samples: {}\".format(class_vector.shape))\n",
    "\n",
    "# Final vector for classifying\n",
    "train = class_vector[\"over2years\"]\n",
    "print(\"Final vector for classiftibg is a {}, first elements: {}\".format(type(train), train[:5]))\n",
    "print(\"\")"
   ]
  },
  {
   "cell_type": "markdown",
   "metadata": {},
   "source": [
    "# NESSRA\n",
    "\n",
    "importing and preparing output genes"
   ]
  },
  {
   "cell_type": "code",
   "execution_count": 5,
   "metadata": {},
   "outputs": [
    {
     "name": "stdout",
     "output_type": "stream",
     "text": [
      "----SVM on NESSRA----\n",
      "\n"
     ]
    },
    {
     "name": "stderr",
     "output_type": "stream",
     "text": [
      "/home/riccardo/miniconda3/lib/python3.7/site-packages/IPython/core/interactiveshell.py:3051: DtypeWarning: Columns (13) have mixed types. Specify dtype option on import or set low_memory=False.\n",
      "  interactivity=interactivity, compiler=compiler, result=result)\n"
     ]
    }
   ],
   "source": [
    "#----------------- NESSRA -----------------\n",
    "print(\"----SVM on NESSRA----\")\n",
    "print(\"\")\n",
    "# importing files output\n",
    "list_apc = [pd.read_csv('~/GoogleDrive/DataMiningLab/Nessra/160679_Hs.expansion', sep = \",\", header=1),\n",
    "            pd.read_csv('~/GoogleDrive/DataMiningLab/Nessra/160679_Hs.interactions', sep = \",\", header=1)]\n",
    "list_smad4 = [pd.read_csv('~/GoogleDrive/DataMiningLab/Nessra/160680_Hs.expansion', sep = \",\", header=1),\n",
    "            pd.read_csv('~/GoogleDrive/DataMiningLab/Nessra/160680_Hs.interactions', sep = \",\", header=1)]\n",
    "list_kras = [pd.read_csv('~/GoogleDrive/DataMiningLab/Nessra/160812_Hs.expansion', sep = \",\", header=1),\n",
    "            [None]]\n",
    "list_braf = [pd.read_csv('~/GoogleDrive/DataMiningLab/Nessra/147717_Hs.expansion', sep = \",\", header=1),\n",
    "            [None]]\n",
    "\n",
    "# importing tcode conversion matrix\n",
    "tcode_mat = pd.read_csv('~/GoogleDrive/DataMiningLab/hgnc_filtered_anno.csv', sep = \",\", header=0)"
   ]
  },
  {
   "cell_type": "code",
   "execution_count": 6,
   "metadata": {},
   "outputs": [
    {
     "name": "stdout",
     "output_type": "stream",
     "text": [
      "I'm creating tcode-to-Symbol dictionary, this will take a minute\n",
      "Done, dictionary ready\n"
     ]
    }
   ],
   "source": [
    "# Set filter tresholds and max genes per set here!\n",
    "tcode_symbol_dict = ng.tcodeSymbolDictGen(tcode_mat)"
   ]
  },
  {
   "cell_type": "code",
   "execution_count": 48,
   "metadata": {},
   "outputs": [
    {
     "name": "stdout",
     "output_type": "stream",
     "text": [
      "Finished.\n",
      "querying 1-8...done.\n",
      "Finished.\n",
      "querying 1-250...done.\n",
      "Finished.\n",
      "5 input query terms found dup hits:\n",
      "\t[('LY6G6E', 8), ('MIR21', 2), ('HNF1A-AS1', 2), ('GLIS3-AS1', 2), ('GUSBP6', 2)]\n",
      "4 input query terms found no hit:\n",
      "\t['KIAA0430', 'ISPD', 'ALS2CR11', 'PARK2']\n",
      "Pass \"returnall=True\" to return complete lists of duplicate or missing query terms.\n",
      "querying 1-147...done.\n",
      "Finished.\n",
      "1 input query terms found dup hits:\n",
      "\t[('HCG18', 8)]\n",
      "5 input query terms found no hit:\n",
      "\t['CECR5', 'MARCH6', 'SSFA2', 'FAM49A', '2019-08-03 00:00:00']\n",
      "Pass \"returnall=True\" to return complete lists of duplicate or missing query terms.\n",
      "Len of set apc: 0\n",
      "Len of set smad4: 8\n",
      "Len of set kras: 266\n",
      "Len of set braf: 164\n"
     ]
    }
   ],
   "source": [
    "# Constructing sets\n",
    "freq_treshold = 0.8\n",
    "n_genes_per_file = 250\n",
    "\n",
    "\n",
    "set_apc = ng.setGen(list_apc[0], list_apc[1],freq_treshold, n_genes_per_file, tcode_symbol_dict, useIntFile=True)\n",
    "set_smad4 = ng.setGen(list_smad4[0], list_smad4[1], freq_treshold, n_genes_per_file, tcode_symbol_dict, useIntFile=False)\n",
    "set_kras = ng.setGen(list_kras[0], list_kras[1], freq_treshold, n_genes_per_file, tcode_symbol_dict, useIntFile=False)\n",
    "set_braf = ng.setGen(list_braf[0], list_braf[1], freq_treshold, n_genes_per_file, tcode_symbol_dict, useIntFile=False)\n",
    "\n",
    "list_of_sets = [set_apc, set_smad4, set_braf, set_braf ]\n",
    "print(\"Len of set apc: {}\".format(len(set_apc)))\n",
    "print(\"Len of set smad4: {}\".format(len(set_smad4)))\n",
    "print(\"Len of set kras: {}\".format(len(set_kras)))\n",
    "print(\"Len of set braf: {}\".format(len(set_braf)))"
   ]
  },
  {
   "cell_type": "code",
   "execution_count": 49,
   "metadata": {},
   "outputs": [
    {
     "name": "stdout",
     "output_type": "stream",
     "text": [
      "Transpose matrix filtered shape: (102, 150)\n",
      "                 ENSG00000146083 ENSG00000022567 ENSG00000112511  \\\n",
      "TCGA-DM-A28F-01A         24.7199         5.12241         7.49493   \n",
      "TCGA-AD-6889-01A         11.7048         2.86845         13.0324   \n",
      "\n",
      "                 ENSG00000173276 ENSG00000184014 ENSG00000159082  \\\n",
      "TCGA-DM-A28F-01A         2.90286        0.509098         1.54334   \n",
      "TCGA-AD-6889-01A         2.62479         1.96586        0.794179   \n",
      "\n",
      "                 ENSG00000119522 ENSG00000101544 ENSG00000198642  \\\n",
      "TCGA-DM-A28F-01A         5.39781         3.56507         12.8879   \n",
      "TCGA-AD-6889-01A         4.76901         6.51013         4.86383   \n",
      "\n",
      "                 ENSG00000058272  ... ENSG00000120616 ENSG00000105339  \\\n",
      "TCGA-DM-A28F-01A         3.51156  ...         2.18634         2.71929   \n",
      "TCGA-AD-6889-01A          2.3136  ...         1.85904         1.00252   \n",
      "\n",
      "                 ENSG00000147383 ENSG00000109466 ENSG00000165030  \\\n",
      "TCGA-DM-A28F-01A         32.1805         2.55513         8.93615   \n",
      "TCGA-AD-6889-01A         22.6455         6.58024         21.6573   \n",
      "\n",
      "                 ENSG00000124789 ENSG00000153815 ENSG00000164715  \\\n",
      "TCGA-DM-A28F-01A         17.6897         11.0816         6.45503   \n",
      "TCGA-AD-6889-01A         5.44481          5.8364         6.19344   \n",
      "\n",
      "                 ENSG00000146416 ENSG00000160584  \n",
      "TCGA-DM-A28F-01A         3.09983         2.58768  \n",
      "TCGA-AD-6889-01A           3.895         2.49796  \n",
      "\n",
      "[2 rows x 150 columns]\n"
     ]
    }
   ],
   "source": [
    "ns_mat = model.select_table(matrix_t, list_of_sets)\n",
    "print(\"Transpose matrix filtered shape: {}\".format(ns_mat.shape))\n",
    "print(ns_mat.head(2))"
   ]
  },
  {
   "cell_type": "code",
   "execution_count": null,
   "metadata": {},
   "outputs": [],
   "source": []
  },
  {
   "cell_type": "markdown",
   "metadata": {},
   "source": [
    "# SVM analysis\n",
    "\n",
    "splitting dataset, training model and evaluation"
   ]
  },
  {
   "cell_type": "code",
   "execution_count": 52,
   "metadata": {},
   "outputs": [],
   "source": [
    "#------------ SVM ANALYSIS ------------\n",
    "\n",
    "# Split dataset into training set and test set\n",
    "X_train, X_test, y_train, y_test = train_test_split(ns_mat.values, train.values, test_size=0.3,random_state=100) # 80% training and 20% test"
   ]
  },
  {
   "cell_type": "code",
   "execution_count": 53,
   "metadata": {},
   "outputs": [
    {
     "name": "stdout",
     "output_type": "stream",
     "text": [
      "(71, 150)\n",
      "0.6619718309859155\n",
      "(31, 150)\n",
      "0.6451612903225806\n"
     ]
    }
   ],
   "source": [
    "print(X_train.shape)\n",
    "print(len([x for x in y_train if x <1])/len(y_train))\n",
    "print(X_test.shape)\n",
    "print(len([x for x in y_test if x <1])/len(y_test))\n"
   ]
  },
  {
   "cell_type": "code",
   "execution_count": 54,
   "metadata": {
    "scrolled": true
   },
   "outputs": [
    {
     "name": "stdout",
     "output_type": "stream",
     "text": [
      "{'C': 10.0, 'gamma': 1.0}\n",
      "fit_time 0.006757020950317383\n",
      "score_time 0.021332184473673504\n",
      "test_accuracy 0.660024154589372\n",
      "test_f1 0.0\n",
      "test_precision 0.0\n",
      "test_recall 0.0\n"
     ]
    },
    {
     "name": "stderr",
     "output_type": "stream",
     "text": [
      "/home/riccardo/miniconda3/lib/python3.7/site-packages/sklearn/metrics/classification.py:1437: UndefinedMetricWarning: F-score is ill-defined and being set to 0.0 due to no predicted samples.\n",
      "  'precision', 'predicted', average, warn_for)\n",
      "/home/riccardo/miniconda3/lib/python3.7/site-packages/sklearn/metrics/classification.py:1437: UndefinedMetricWarning: Precision is ill-defined and being set to 0.0 due to no predicted samples.\n",
      "  'precision', 'predicted', average, warn_for)\n",
      "/home/riccardo/miniconda3/lib/python3.7/site-packages/sklearn/metrics/classification.py:1437: UndefinedMetricWarning: F-score is ill-defined and being set to 0.0 due to no predicted samples.\n",
      "  'precision', 'predicted', average, warn_for)\n",
      "/home/riccardo/miniconda3/lib/python3.7/site-packages/sklearn/metrics/classification.py:1437: UndefinedMetricWarning: Precision is ill-defined and being set to 0.0 due to no predicted samples.\n",
      "  'precision', 'predicted', average, warn_for)\n",
      "/home/riccardo/miniconda3/lib/python3.7/site-packages/sklearn/metrics/classification.py:1437: UndefinedMetricWarning: F-score is ill-defined and being set to 0.0 due to no predicted samples.\n",
      "  'precision', 'predicted', average, warn_for)\n",
      "/home/riccardo/miniconda3/lib/python3.7/site-packages/sklearn/metrics/classification.py:1437: UndefinedMetricWarning: Precision is ill-defined and being set to 0.0 due to no predicted samples.\n",
      "  'precision', 'predicted', average, warn_for)\n"
     ]
    }
   ],
   "source": [
    "# train the model\n",
    "clf_ns = model.training(X_train, y_train)\n",
    "\n",
    "y_pred = clf_ns.predict(X_test)\n"
   ]
  },
  {
   "cell_type": "code",
   "execution_count": 55,
   "metadata": {},
   "outputs": [
    {
     "data": {
      "text/plain": [
       "array([0, 0, 0, 0, 0, 0, 0, 0, 0, 0, 0, 0, 0, 0, 0, 0, 0, 0, 0, 0, 0, 0,\n",
       "       0, 0, 0, 0, 0, 0, 0, 0, 0])"
      ]
     },
     "execution_count": 55,
     "metadata": {},
     "output_type": "execute_result"
    }
   ],
   "source": [
    "y_pred"
   ]
  },
  {
   "cell_type": "code",
   "execution_count": 58,
   "metadata": {},
   "outputs": [
    {
     "name": "stdout",
     "output_type": "stream",
     "text": [
      "--- Evaluating test set ---\n",
      "Test matrix shape: (31, 150)  \n",
      "Test class vector: 31 \n",
      "\n",
      "Frequency filter used in NESSRA output: 0.8, final number of genes: 150\n",
      "\n",
      "Accuracy: 0.6451612903225806\n",
      "Precision: 0.0\n",
      "Recall: 0.0\n",
      "\n",
      "Proportion of 0s in test y: 0.6451612903225806\n",
      "Proportion of 0s in prediction y: 1.0\n"
     ]
    },
    {
     "name": "stderr",
     "output_type": "stream",
     "text": [
      "/home/riccardo/miniconda3/lib/python3.7/site-packages/sklearn/metrics/classification.py:1437: UndefinedMetricWarning: Precision is ill-defined and being set to 0.0 due to no predicted samples.\n",
      "  'precision', 'predicted', average, warn_for)\n"
     ]
    }
   ],
   "source": [
    "print(\"--- Evaluating test set ---\")\n",
    "print(\"Test matrix shape: {}  \\nTest class vector: {} \\n\".format(X_test.shape, len(y_test)))\n",
    "print(\"Frequency filter used in NESSRA output: {}, final number of genes: {}\". format(freq_treshold, X_test.shape[1]))\n",
    "print(\"\")\n",
    "# Model Accuracy: how often is the classifier correct?\n",
    "print(\"Accuracy:\",metrics.accuracy_score(y_test, y_pred))\n",
    "\n",
    "# Model Precision: what percentage of positive tuples are labeled as such?\n",
    "print(\"Precision:\",metrics.precision_score(y_test, y_pred))\n",
    "\n",
    "# Model Recall: what percentage of positive tuples are labelled as such?\n",
    "print(\"Recall:\",metrics.recall_score(y_test, y_pred))\n",
    "print(\"\")\n",
    "print(\"Proportion of 0s in test y: {}\".format(len([x for x in y_test if x <1])/len(y_test)))\n",
    "print(\"Proportion of 0s in prediction y: {}\".format(len([x for x in y_pred if x <1])/len(y_pred)))"
   ]
  },
  {
   "cell_type": "markdown",
   "metadata": {},
   "source": [
    "# Naive Bayes Model"
   ]
  },
  {
   "cell_type": "code",
   "execution_count": 59,
   "metadata": {},
   "outputs": [
    {
     "data": {
      "text/plain": [
       "GaussianNB(priors=None, var_smoothing=1e-09)"
      ]
     },
     "execution_count": 59,
     "metadata": {},
     "output_type": "execute_result"
    }
   ],
   "source": [
    "#Import Gaussian Naive Bayes model\n",
    "from sklearn.naive_bayes import GaussianNB\n",
    "\n",
    "#Create a Gaussian Classifier\n",
    "g_model = GaussianNB()\n",
    "\n",
    "# Train the model using the training sets\n",
    "g_model.fit(X_train,y_train)\n",
    "\n"
   ]
  },
  {
   "cell_type": "code",
   "execution_count": 60,
   "metadata": {},
   "outputs": [
    {
     "name": "stdout",
     "output_type": "stream",
     "text": [
      "Proportion of 0s in test y: 0.6451612903225806\n",
      "Proportion of 0s in prediction y: 0.45161290322580644\n"
     ]
    }
   ],
   "source": [
    "#Predict Output\n",
    "predicted= g_model.predict(X_test)\n",
    "print(\"Proportion of 0s in test y: {}\".format(len([x for x in y_test if x <1])/len(y_test)))\n",
    "print(\"Proportion of 0s in prediction y: {}\".format(len([x for x in predicted if x <1])/len(predicted)))"
   ]
  },
  {
   "cell_type": "code",
   "execution_count": 63,
   "metadata": {},
   "outputs": [
    {
     "name": "stdout",
     "output_type": "stream",
     "text": [
      "[1 0 0 1 1 0 0 0 1 1 1 1 0 0 1 1 0 1 0 1 0 0 1 1 0 1 0 1 1 1 0]\n",
      "[0 0 0 1 1 0 0 0 0 1 1 1 0 0 1 0 0 0 0 0 0 0 1 1 0 1 1 0 0 1 0]\n",
      "Accuracy: 0.7419354838709677\n"
     ]
    }
   ],
   "source": [
    "# Model Accuracy: how often is the classifier correct?\n",
    "print(predicted)\n",
    "print(y_test)\n",
    "print(\"Accuracy:\",metrics.accuracy_score(y_test, predicted))"
   ]
  },
  {
   "cell_type": "code",
   "execution_count": 71,
   "metadata": {},
   "outputs": [
    {
     "name": "stdout",
     "output_type": "stream",
     "text": [
      "Nessra treshold of 0.8, selected max 250 per set:\n",
      "\n",
      "Len of ens id set apc: 0\n",
      "Len of ens id set smad4: 8\n",
      "Len of ens id set kras: 266\n",
      "Len of ens id set braf: 164\n",
      "\n",
      "Transpose matrix intersection with sets shape: (102, 150)\n",
      "\n",
      "---- Naive Bayes ----\n",
      "Proportion of 0s in test y: 0.6451612903225806\n",
      "Proportion of 0s in prediction y: 0.45161290322580644\n",
      "\n",
      "[1 0 0 1 1 0 0 0 1 1 1 1 0 0 1 1 0 1 0 1 0 0 1 1 0 1 0 1 1 1 0]\n",
      "[0 0 0 1 1 0 0 0 0 1 1 1 0 0 1 0 0 0 0 0 0 0 1 1 0 1 1 0 0 1 0]\n",
      "Accuracy: 0.7419354838709677\n"
     ]
    }
   ],
   "source": [
    "print(\"Nessra treshold of {}, selected max {} genes per set:\".format(freq_treshold, n_genes_per_file))\n",
    "print(\"\")\n",
    "print(\"Len of ens id set apc: {}\".format(len(set_apc)))\n",
    "print(\"Len of ens id set smad4: {}\".format(len(set_smad4)))\n",
    "print(\"Len of ens id set kras: {}\".format(len(set_kras)))\n",
    "print(\"Len of ens id set braf: {}\".format(len(set_braf)))\n",
    "print(\"\")\n",
    "print(\"Transpose matrix intersection with sets shape: {}\".format(ns_mat.shape))\n",
    "print(\"\")\n",
    "print(\"---- Naive Bayes ----\")\n",
    "print(\"Proportion of 0s in test y: {}\".format(len([x for x in y_test if x <1])/len(y_test)))\n",
    "print(\"Proportion of 0s in prediction y: {}\".format(len([x for x in predicted if x <1])/len(predicted)))\n",
    "print(\"\")\n",
    "print(predicted)\n",
    "print(y_test)\n",
    "print(\"Accuracy:\",metrics.accuracy_score(y_test, predicted))"
   ]
  },
  {
   "cell_type": "markdown",
   "metadata": {},
   "source": [
    "# Neural Network"
   ]
  },
  {
   "cell_type": "code",
   "execution_count": 68,
   "metadata": {},
   "outputs": [
    {
     "name": "stdout",
     "output_type": "stream",
     "text": [
      "n input: 150, n perceptrons per hidden: 100\n"
     ]
    }
   ],
   "source": [
    "# Import `Sequential` from `keras.models`\n",
    "from keras.models import Sequential\n",
    "\n",
    "# Import `Dense` from `keras.layers`\n",
    "from keras.layers import Dense\n",
    "\n",
    "n_input = X_train.shape[1]\n",
    "n_hidden = int(np.ceil(n_input/3*2))\n",
    "print(\"n input: {}, n perceptrons per hidden: {}\".format(n_input, n_hidden))\n",
    "# Initialize the constructor\n",
    "nn_model = Sequential([\n",
    "    \n",
    "# Add an input layer \n",
    "Dense(n_input, activation='relu', input_shape=(n_input,)),\n",
    "    \n",
    "# Add three hidden layer \n",
    "Dense(n_hidden, activation='relu'),\n",
    "Dense(n_hidden, activation='relu'),\n",
    "Dense(n_hidden, activation='relu'),\n",
    "# Add an output layer \n",
    "Dense(1, activation='sigmoid')\n",
    "])\n"
   ]
  },
  {
   "cell_type": "code",
   "execution_count": 69,
   "metadata": {},
   "outputs": [
    {
     "name": "stdout",
     "output_type": "stream",
     "text": [
      "Epoch 1/150\n",
      "71/71 [==============================] - 3s 44ms/step - loss: 5.4484 - acc: 0.6620\n",
      "Epoch 2/150\n",
      "71/71 [==============================] - 0s 7ms/step - loss: 5.4484 - acc: 0.6620\n",
      "Epoch 3/150\n",
      "71/71 [==============================] - 0s 6ms/step - loss: 5.4484 - acc: 0.6620\n",
      "Epoch 4/150\n",
      "71/71 [==============================] - 0s 7ms/step - loss: 5.4484 - acc: 0.6620\n",
      "Epoch 5/150\n",
      "71/71 [==============================] - 1s 10ms/step - loss: 5.4484 - acc: 0.6620\n",
      "Epoch 6/150\n",
      "71/71 [==============================] - 0s 6ms/step - loss: 5.4484 - acc: 0.6620\n",
      "Epoch 7/150\n",
      "71/71 [==============================] - 0s 7ms/step - loss: 5.4484 - acc: 0.6620\n",
      "Epoch 8/150\n",
      "71/71 [==============================] - 1s 10ms/step - loss: 5.4484 - acc: 0.6620\n",
      "Epoch 9/150\n",
      "71/71 [==============================] - 1s 8ms/step - loss: 5.4484 - acc: 0.6620\n",
      "Epoch 10/150\n",
      "71/71 [==============================] - 1s 7ms/step - loss: 5.4484 - acc: 0.6620\n",
      "Epoch 11/150\n",
      "71/71 [==============================] - 1s 8ms/step - loss: 5.4484 - acc: 0.6620\n",
      "Epoch 12/150\n",
      "71/71 [==============================] - 0s 7ms/step - loss: 5.4484 - acc: 0.6620\n",
      "Epoch 13/150\n",
      "71/71 [==============================] - 1s 8ms/step - loss: 5.4484 - acc: 0.6620\n",
      "Epoch 14/150\n",
      "71/71 [==============================] - 1s 12ms/step - loss: 5.4484 - acc: 0.6620\n",
      "Epoch 15/150\n",
      "71/71 [==============================] - 1s 9ms/step - loss: 5.4484 - acc: 0.6620\n",
      "Epoch 16/150\n",
      "71/71 [==============================] - 1s 14ms/step - loss: 5.4484 - acc: 0.6620\n",
      "Epoch 17/150\n",
      "71/71 [==============================] - 1s 11ms/step - loss: 5.4484 - acc: 0.6620\n",
      "Epoch 18/150\n",
      "71/71 [==============================] - 1s 12ms/step - loss: 5.4484 - acc: 0.6620\n",
      "Epoch 19/150\n",
      "71/71 [==============================] - 0s 7ms/step - loss: 5.4484 - acc: 0.6620\n",
      "Epoch 20/150\n",
      "71/71 [==============================] - 0s 6ms/step - loss: 5.4484 - acc: 0.6620\n",
      "Epoch 21/150\n",
      "71/71 [==============================] - 0s 7ms/step - loss: 5.4484 - acc: 0.6620\n",
      "Epoch 22/150\n",
      "71/71 [==============================] - 1s 7ms/step - loss: 5.4484 - acc: 0.6620\n",
      "Epoch 23/150\n",
      "71/71 [==============================] - 1s 8ms/step - loss: 5.4484 - acc: 0.6620\n",
      "Epoch 24/150\n",
      "71/71 [==============================] - 0s 7ms/step - loss: 5.4484 - acc: 0.6620\n",
      "Epoch 25/150\n",
      "71/71 [==============================] - 0s 6ms/step - loss: 5.4484 - acc: 0.6620\n",
      "Epoch 26/150\n",
      "71/71 [==============================] - 1s 8ms/step - loss: 5.4484 - acc: 0.6620\n",
      "Epoch 27/150\n",
      "71/71 [==============================] - 0s 7ms/step - loss: 5.4484 - acc: 0.6620\n",
      "Epoch 28/150\n",
      "71/71 [==============================] - 1s 7ms/step - loss: 5.4484 - acc: 0.6620\n",
      "Epoch 29/150\n",
      "71/71 [==============================] - 0s 7ms/step - loss: 5.4484 - acc: 0.6620\n",
      "Epoch 30/150\n",
      "71/71 [==============================] - 1s 9ms/step - loss: 5.4484 - acc: 0.6620\n",
      "Epoch 31/150\n",
      "71/71 [==============================] - 1s 8ms/step - loss: 5.4484 - acc: 0.6620\n",
      "Epoch 32/150\n",
      "71/71 [==============================] - 0s 7ms/step - loss: 5.4484 - acc: 0.6620\n",
      "Epoch 33/150\n",
      "71/71 [==============================] - 1s 8ms/step - loss: 5.4484 - acc: 0.6620\n",
      "Epoch 34/150\n",
      "71/71 [==============================] - 1s 9ms/step - loss: 5.4484 - acc: 0.6620\n",
      "Epoch 35/150\n",
      "71/71 [==============================] - 1s 8ms/step - loss: 5.4484 - acc: 0.6620\n",
      "Epoch 36/150\n",
      "71/71 [==============================] - 1s 10ms/step - loss: 5.4484 - acc: 0.6620\n",
      "Epoch 37/150\n",
      "71/71 [==============================] - 1s 9ms/step - loss: 5.4484 - acc: 0.6620\n",
      "Epoch 38/150\n",
      "71/71 [==============================] - 1s 7ms/step - loss: 5.4484 - acc: 0.6620\n",
      "Epoch 39/150\n",
      "71/71 [==============================] - 1s 8ms/step - loss: 5.4484 - acc: 0.6620\n",
      "Epoch 40/150\n",
      "71/71 [==============================] - 1s 7ms/step - loss: 5.4484 - acc: 0.6620\n",
      "Epoch 41/150\n",
      "71/71 [==============================] - 0s 7ms/step - loss: 5.4484 - acc: 0.6620\n",
      "Epoch 42/150\n",
      "71/71 [==============================] - 0s 7ms/step - loss: 5.4484 - acc: 0.6620\n",
      "Epoch 43/150\n",
      "71/71 [==============================] - 0s 7ms/step - loss: 5.4484 - acc: 0.6620\n",
      "Epoch 44/150\n",
      "71/71 [==============================] - 0s 7ms/step - loss: 5.4484 - acc: 0.6620\n",
      "Epoch 45/150\n",
      "71/71 [==============================] - 0s 6ms/step - loss: 5.4484 - acc: 0.6620\n",
      "Epoch 46/150\n",
      "71/71 [==============================] - 0s 7ms/step - loss: 5.4484 - acc: 0.6620\n",
      "Epoch 47/150\n",
      "71/71 [==============================] - 1s 11ms/step - loss: 5.4484 - acc: 0.6620\n",
      "Epoch 48/150\n",
      "71/71 [==============================] - 1s 8ms/step - loss: 5.4484 - acc: 0.6620\n",
      "Epoch 49/150\n",
      "71/71 [==============================] - 1s 7ms/step - loss: 5.4484 - acc: 0.6620\n",
      "Epoch 50/150\n",
      "71/71 [==============================] - 1s 8ms/step - loss: 5.4484 - acc: 0.6620\n",
      "Epoch 51/150\n",
      "71/71 [==============================] - 0s 6ms/step - loss: 5.4484 - acc: 0.6620\n",
      "Epoch 52/150\n",
      "71/71 [==============================] - 0s 6ms/step - loss: 5.4484 - acc: 0.6620\n",
      "Epoch 53/150\n",
      "71/71 [==============================] - 0s 7ms/step - loss: 5.4484 - acc: 0.6620\n",
      "Epoch 54/150\n",
      "71/71 [==============================] - 1s 7ms/step - loss: 5.4484 - acc: 0.6620\n",
      "Epoch 55/150\n",
      "71/71 [==============================] - 1s 8ms/step - loss: 5.4484 - acc: 0.6620\n",
      "Epoch 56/150\n",
      "71/71 [==============================] - 1s 9ms/step - loss: 5.4484 - acc: 0.6620\n",
      "Epoch 57/150\n",
      "71/71 [==============================] - 1s 10ms/step - loss: 5.4484 - acc: 0.6620\n",
      "Epoch 58/150\n",
      "71/71 [==============================] - 1s 8ms/step - loss: 5.4484 - acc: 0.6620\n",
      "Epoch 59/150\n",
      "71/71 [==============================] - 0s 7ms/step - loss: 5.4484 - acc: 0.6620\n",
      "Epoch 60/150\n",
      "71/71 [==============================] - 1s 8ms/step - loss: 5.4484 - acc: 0.6620\n",
      "Epoch 61/150\n",
      "71/71 [==============================] - 0s 7ms/step - loss: 5.4484 - acc: 0.6620\n",
      "Epoch 62/150\n",
      "71/71 [==============================] - 1s 8ms/step - loss: 5.4484 - acc: 0.6620\n",
      "Epoch 63/150\n",
      "71/71 [==============================] - 0s 7ms/step - loss: 5.4484 - acc: 0.6620\n",
      "Epoch 64/150\n",
      "71/71 [==============================] - 1s 7ms/step - loss: 5.4484 - acc: 0.6620\n",
      "Epoch 65/150\n",
      "71/71 [==============================] - 0s 6ms/step - loss: 5.4484 - acc: 0.6620\n",
      "Epoch 66/150\n",
      "71/71 [==============================] - 0s 7ms/step - loss: 5.4484 - acc: 0.6620\n",
      "Epoch 67/150\n",
      "71/71 [==============================] - 0s 7ms/step - loss: 5.4484 - acc: 0.6620\n",
      "Epoch 68/150\n",
      "71/71 [==============================] - 1s 7ms/step - loss: 5.4484 - acc: 0.6620\n",
      "Epoch 69/150\n",
      "71/71 [==============================] - 0s 7ms/step - loss: 5.4484 - acc: 0.6620\n",
      "Epoch 70/150\n",
      "71/71 [==============================] - 1s 9ms/step - loss: 5.4484 - acc: 0.6620\n",
      "Epoch 71/150\n",
      "71/71 [==============================] - 1s 7ms/step - loss: 5.4484 - acc: 0.6620\n",
      "Epoch 72/150\n",
      "71/71 [==============================] - 0s 7ms/step - loss: 5.4484 - acc: 0.6620\n",
      "Epoch 73/150\n",
      "71/71 [==============================] - 1s 7ms/step - loss: 5.4484 - acc: 0.6620\n",
      "Epoch 74/150\n",
      "71/71 [==============================] - 1s 8ms/step - loss: 5.4484 - acc: 0.6620\n",
      "Epoch 75/150\n",
      "71/71 [==============================] - 1s 8ms/step - loss: 5.4484 - acc: 0.6620\n",
      "Epoch 76/150\n",
      "71/71 [==============================] - 1s 7ms/step - loss: 5.4484 - acc: 0.6620\n",
      "Epoch 77/150\n",
      "71/71 [==============================] - 1s 8ms/step - loss: 5.4484 - acc: 0.6620\n",
      "Epoch 78/150\n",
      "71/71 [==============================] - 1s 7ms/step - loss: 5.4484 - acc: 0.6620\n",
      "Epoch 79/150\n",
      "71/71 [==============================] - 1s 9ms/step - loss: 5.4484 - acc: 0.6620\n",
      "Epoch 80/150\n",
      "71/71 [==============================] - 1s 7ms/step - loss: 5.4484 - acc: 0.6620\n",
      "Epoch 81/150\n",
      "71/71 [==============================] - 1s 8ms/step - loss: 5.4484 - acc: 0.6620\n",
      "Epoch 82/150\n",
      "71/71 [==============================] - 1s 7ms/step - loss: 5.4484 - acc: 0.6620\n",
      "Epoch 83/150\n",
      "71/71 [==============================] - 1s 8ms/step - loss: 5.4484 - acc: 0.6620\n",
      "Epoch 84/150\n",
      "71/71 [==============================] - 0s 7ms/step - loss: 5.4484 - acc: 0.6620\n",
      "Epoch 85/150\n",
      "71/71 [==============================] - 1s 8ms/step - loss: 5.4484 - acc: 0.6620\n",
      "Epoch 86/150\n",
      "71/71 [==============================] - 0s 7ms/step - loss: 5.4484 - acc: 0.6620\n",
      "Epoch 87/150\n"
     ]
    },
    {
     "name": "stdout",
     "output_type": "stream",
     "text": [
      "71/71 [==============================] - 0s 6ms/step - loss: 5.4484 - acc: 0.6620\n",
      "Epoch 88/150\n",
      "71/71 [==============================] - 0s 6ms/step - loss: 5.4484 - acc: 0.6620\n",
      "Epoch 89/150\n",
      "71/71 [==============================] - 0s 7ms/step - loss: 5.4484 - acc: 0.6620\n",
      "Epoch 90/150\n",
      "71/71 [==============================] - 0s 6ms/step - loss: 5.4484 - acc: 0.6620\n",
      "Epoch 91/150\n",
      "71/71 [==============================] - 0s 7ms/step - loss: 5.4484 - acc: 0.6620\n",
      "Epoch 92/150\n",
      "71/71 [==============================] - 0s 6ms/step - loss: 5.4484 - acc: 0.6620\n",
      "Epoch 93/150\n",
      "71/71 [==============================] - 0s 7ms/step - loss: 5.4484 - acc: 0.6620\n",
      "Epoch 94/150\n",
      "71/71 [==============================] - 0s 6ms/step - loss: 5.4484 - acc: 0.6620\n",
      "Epoch 95/150\n",
      "71/71 [==============================] - 0s 7ms/step - loss: 5.4484 - acc: 0.6620\n",
      "Epoch 96/150\n",
      "71/71 [==============================] - 0s 6ms/step - loss: 5.4484 - acc: 0.6620\n",
      "Epoch 97/150\n",
      "71/71 [==============================] - 0s 6ms/step - loss: 5.4484 - acc: 0.6620\n",
      "Epoch 98/150\n",
      "71/71 [==============================] - 0s 6ms/step - loss: 5.4484 - acc: 0.6620\n",
      "Epoch 99/150\n",
      "71/71 [==============================] - 0s 6ms/step - loss: 5.4484 - acc: 0.6620\n",
      "Epoch 100/150\n",
      "71/71 [==============================] - 0s 6ms/step - loss: 5.4484 - acc: 0.6620\n",
      "Epoch 101/150\n",
      "71/71 [==============================] - 0s 6ms/step - loss: 5.4484 - acc: 0.6620\n",
      "Epoch 102/150\n",
      " 8/71 [==>...........................] - ETA: 0s - loss: 4.0295 - acc: 0.7500    "
     ]
    },
    {
     "name": "stderr",
     "output_type": "stream",
     "text": [
      "ERROR:root:Internal Python error in the inspect module.\n",
      "Below is the traceback from this internal error.\n",
      "\n"
     ]
    },
    {
     "name": "stdout",
     "output_type": "stream",
     "text": [
      "Traceback (most recent call last):\n",
      "  File \"/home/riccardo/miniconda3/lib/python3.7/site-packages/IPython/core/interactiveshell.py\", line 3319, in run_code\n",
      "    exec(code_obj, self.user_global_ns, self.user_ns)\n",
      "  File \"<ipython-input-69-1a767601116c>\", line 6, in <module>\n",
      "    nn_model.fit(X_train, y_train,epochs=150, batch_size=1, verbose=1)\n",
      "  File \"/home/riccardo/miniconda3/lib/python3.7/site-packages/keras/engine/training.py\", line 1039, in fit\n",
      "    validation_steps=validation_steps)\n",
      "  File \"/home/riccardo/miniconda3/lib/python3.7/site-packages/keras/engine/training_arrays.py\", line 199, in fit_loop\n",
      "    outs = f(ins_batch)\n",
      "  File \"/home/riccardo/miniconda3/lib/python3.7/site-packages/keras/backend/tensorflow_backend.py\", line 2715, in __call__\n",
      "    return self._call(inputs)\n",
      "  File \"/home/riccardo/miniconda3/lib/python3.7/site-packages/keras/backend/tensorflow_backend.py\", line 2675, in _call\n",
      "    fetched = self._callable_fn(*array_vals)\n",
      "  File \"/home/riccardo/miniconda3/lib/python3.7/site-packages/tensorflow_core/python/client/session.py\", line 1472, in __call__\n",
      "    run_metadata_ptr)\n",
      "KeyboardInterrupt\n",
      "\n",
      "During handling of the above exception, another exception occurred:\n",
      "\n",
      "Traceback (most recent call last):\n",
      "  File \"/home/riccardo/miniconda3/lib/python3.7/site-packages/IPython/core/interactiveshell.py\", line 2034, in showtraceback\n",
      "    stb = value._render_traceback_()\n",
      "AttributeError: 'KeyboardInterrupt' object has no attribute '_render_traceback_'\n",
      "\n",
      "During handling of the above exception, another exception occurred:\n",
      "\n",
      "Traceback (most recent call last):\n",
      "  File \"/home/riccardo/miniconda3/lib/python3.7/site-packages/IPython/core/ultratb.py\", line 1101, in get_records\n",
      "    return _fixed_getinnerframes(etb, number_of_lines_of_context, tb_offset)\n",
      "  File \"/home/riccardo/miniconda3/lib/python3.7/site-packages/IPython/core/ultratb.py\", line 319, in wrapped\n",
      "    return f(*args, **kwargs)\n",
      "  File \"/home/riccardo/miniconda3/lib/python3.7/site-packages/IPython/core/ultratb.py\", line 353, in _fixed_getinnerframes\n",
      "    records = fix_frame_records_filenames(inspect.getinnerframes(etb, context))\n",
      "  File \"/home/riccardo/miniconda3/lib/python3.7/inspect.py\", line 1502, in getinnerframes\n",
      "    frameinfo = (tb.tb_frame,) + getframeinfo(tb, context)\n",
      "  File \"/home/riccardo/miniconda3/lib/python3.7/inspect.py\", line 1460, in getframeinfo\n",
      "    filename = getsourcefile(frame) or getfile(frame)\n",
      "  File \"/home/riccardo/miniconda3/lib/python3.7/inspect.py\", line 696, in getsourcefile\n",
      "    if getattr(getmodule(object, filename), '__loader__', None) is not None:\n",
      "  File \"/home/riccardo/miniconda3/lib/python3.7/inspect.py\", line 733, in getmodule\n",
      "    if ismodule(module) and hasattr(module, '__file__'):\n",
      "  File \"/home/riccardo/miniconda3/lib/python3.7/site-packages/tensorflow/__init__.py\", line 50, in __getattr__\n",
      "    module = self._load()\n",
      "  File \"/home/riccardo/miniconda3/lib/python3.7/site-packages/tensorflow/__init__.py\", line 44, in _load\n",
      "    module = _importlib.import_module(self.__name__)\n",
      "  File \"/home/riccardo/miniconda3/lib/python3.7/importlib/__init__.py\", line 127, in import_module\n",
      "    return _bootstrap._gcd_import(name[level:], package, level)\n",
      "  File \"<frozen importlib._bootstrap>\", line 1006, in _gcd_import\n",
      "  File \"<frozen importlib._bootstrap>\", line 983, in _find_and_load\n",
      "  File \"<frozen importlib._bootstrap>\", line 967, in _find_and_load_unlocked\n",
      "  File \"<frozen importlib._bootstrap>\", line 677, in _load_unlocked\n",
      "  File \"<frozen importlib._bootstrap_external>\", line 728, in exec_module\n",
      "  File \"<frozen importlib._bootstrap>\", line 219, in _call_with_frames_removed\n",
      "  File \"/home/riccardo/miniconda3/lib/python3.7/site-packages/tensorflow_core/contrib/__init__.py\", line 90, in <module>\n",
      "    from tensorflow.contrib import tensor_forest\n",
      "  File \"/home/riccardo/miniconda3/lib/python3.7/site-packages/tensorflow_core/contrib/tensor_forest/__init__.py\", line 21, in <module>\n",
      "    from tensorflow.contrib.tensor_forest.client import *\n",
      "  File \"/home/riccardo/miniconda3/lib/python3.7/site-packages/tensorflow_core/contrib/tensor_forest/__init__.py\", line 21, in <module>\n",
      "    from tensorflow.contrib.tensor_forest.client import *\n",
      "  File \"/home/riccardo/miniconda3/lib/python3.7/site-packages/tensorflow_core/contrib/tensor_forest/client/__init__.py\", line 22, in <module>\n",
      "    from tensorflow.contrib.tensor_forest.client import random_forest\n",
      "  File \"/home/riccardo/miniconda3/lib/python3.7/site-packages/tensorflow_core/contrib/tensor_forest/client/random_forest.py\", line 27, in <module>\n",
      "    from tensorflow.contrib.tensor_forest.python import tensor_forest\n",
      "  File \"/home/riccardo/miniconda3/lib/python3.7/site-packages/tensorflow_core/contrib/tensor_forest/python/__init__.py\", line 21, in <module>\n",
      "    from tensorflow.contrib.tensor_forest.python import tensor_forest\n",
      "  File \"/home/riccardo/miniconda3/lib/python3.7/site-packages/tensorflow_core/contrib/tensor_forest/python/tensor_forest.py\", line 29, in <module>\n",
      "    from tensorflow.contrib.tensor_forest.python.ops import data_ops\n",
      "  File \"/home/riccardo/miniconda3/lib/python3.7/site-packages/tensorflow_core/contrib/tensor_forest/python/ops/data_ops.py\", line 20, in <module>\n",
      "    from tensorflow.contrib.tensor_forest.python.ops import tensor_forest_ops\n",
      "  File \"/home/riccardo/miniconda3/lib/python3.7/site-packages/tensorflow_core/contrib/tensor_forest/python/ops/tensor_forest_ops.py\", line 28, in <module>\n",
      "    resource_loader.get_path_to_datafile('_tensor_forest_ops.so'))\n",
      "  File \"/home/riccardo/miniconda3/lib/python3.7/site-packages/tensorflow_core/contrib/util/loader.py\", line 56, in load_op_library\n",
      "    ret = load_library.load_op_library(path)\n",
      "  File \"/home/riccardo/miniconda3/lib/python3.7/site-packages/tensorflow_core/python/framework/load_library.py\", line 61, in load_op_library\n",
      "    lib_handle = py_tf.TF_LoadLibrary(library_filename)\n",
      "KeyboardInterrupt\n"
     ]
    },
    {
     "ename": "KeyboardInterrupt",
     "evalue": "",
     "output_type": "error",
     "traceback": [
      "\u001b[0;31m---------------------------------------------------------------------------\u001b[0m"
     ]
    }
   ],
   "source": [
    "# Model compile\n",
    "nn_model.compile(loss='binary_crossentropy',\n",
    "              optimizer='adam',\n",
    "              metrics=['accuracy'])\n",
    "                   \n",
    "nn_model.fit(X_train, y_train,epochs=150, batch_size=1, verbose=1)"
   ]
  },
  {
   "cell_type": "code",
   "execution_count": 66,
   "metadata": {},
   "outputs": [
    {
     "name": "stdout",
     "output_type": "stream",
     "text": [
      "[0, 0, 0, 0, 0, 0, 0, 0, 0, 0, 0, 0, 0, 0, 0, 0, 0, 1, 0, 0, 0, 0, 0, 0, 0, 0, 0, 0, 0, 0, 0]\n",
      "Proportion of 0s in test y: 0.6451612903225806\n",
      "Proportion of 0s in prediction y: 0.967741935483871\n"
     ]
    }
   ],
   "source": [
    "y_pred = nn_model.predict(X_test)\n",
    "y_pred = [int(x) for x in y_pred]\n",
    "print(y_pred)\n",
    "print(\"Proportion of 0s in test y: {}\".format(len([x for x in y_test if x <1])/len(y_test)))\n",
    "print(\"Proportion of 0s in prediction y: {}\".format(len([x for x in y_pred if x <1])/len(y_pred)))\n"
   ]
  },
  {
   "cell_type": "code",
   "execution_count": 67,
   "metadata": {},
   "outputs": [
    {
     "name": "stdout",
     "output_type": "stream",
     "text": [
      "31/31 [==============================] - 0s 14ms/step\n",
      "[3.952394485473633, 0.5161290168762207]\n",
      "Accuracy: 0.6129032258064516\n"
     ]
    }
   ],
   "source": [
    "# Evaluation\n",
    "score = nn_model.evaluate(X_test, y_test,verbose=1)\n",
    "\n",
    "print(score)\n",
    "\n",
    "# Model Accuracy: how often is the classifier correct?\n",
    "print(\"Accuracy:\",metrics.accuracy_score(y_test, y_pred))"
   ]
  },
  {
   "cell_type": "markdown",
   "metadata": {},
   "source": [
    "# Symbol gene printing"
   ]
  },
  {
   "cell_type": "code",
   "execution_count": 111,
   "metadata": {},
   "outputs": [
    {
     "name": "stdout",
     "output_type": "stream",
     "text": [
      "querying 1-482...done.\n",
      "Finished.\n",
      "len of ens genes: 482, len of symbol genes: 482\n",
      "RNF44, PTPN4, SLC45A4, PHF1, DGKD, NOP16, ZBTB21, TAF9B, DENND5A, URB1-AS1, CREM, USP9X, CCDC90B, SYNJ1, TTLL1, ZNF622, DENND1A, ANKRD42, POMC, SLC39A10, TUBA1C, SCYL2, LSM14A, ADNP2, KLHL9, KMT2E, PPP1R12A, SDAD1P1, CAMKK2, CUL1, GPCPD1, PLAG1, MIDN, PCBP1-AS1, MPC1, CWC25, PXYLP1, IRGQ, PI4KA, ATF7IP, NUP58, TTC12, LAMTOR2, FYN, ST13P6, NUP98, VWA7, SMAP2, TMEM80, GAB2, ZHX2, USP34, CAMK1D, ANKRD11, FAM160A2, ZNF266, KIAA1109, MBD6, ENTPD4, GABPA, ALKBH3, TMEM216, ZFX, CHKB, PSMA7, BCL9, FOXO1, CRTC2, ZKSCAN7, AK4, ORMDL1, TRAPPC8, ARF4, CCNL1, PHF20L1, ZNF264, LUC7L2, HSP90AB1, METTL21A, DDX50, TTC39C, SLCO4A1, RBM45, JMJD6, NFXL1, TSTA3, SMDT1, FOXN3, ORMDL2, AHCTF1, RFX2, SLC50A1, KLHL18, NDUFC1, TNFAIP8, ZBTB17, CREBRF, NFAT5, RSPO1, IFRD1, SLC12A6, FAM122A, PGS1, SF1, NEK9, FAM126B, PSME4, PPP1R3F, KCNAB2, DFFA, XPR1, COA6, RLIM, HINT2, RMDN1, BCAP31, FNIP1, GSTP1, HMGB1, KDM5C, SPAG4, POLR2J4, DHCR24, CLN8, THAP9, MIS12, ANGEL2, SPOPL, FBXL17, ACSF2, UIMC1, NAA38, FBXO42, TRIAP1, HAX1, TSC22D2, PHF21B, GSPT2, GPR18, SMCHD1, RYBP, PEX11G, ZBED5, CCDC9, FNDC3A, CREBBP, POLR3C, C11orf71, CUL3, DHRS12, SBNO1, CHMP4A, HMGA1P3, TIGD7, CCND1, CD276, GSS, FNBP4, CPEB2, MED14, GUSBP11, ARL6IP5, POGZ, CCNT2, GOLGA4, FAHD1, NUDT2, SNIP1, MSANTD2, PLGRKT, C4orf33, RB1CC1, KLF3, SRSF8, NUDT6, PRDM2, AGTPBP1, GNAS, MSL2, PER1, SNX13, COPS7B, SHF, PTAR1, MTMR6, CDC14B, CLN5, USP38, MBTD1, MYL5, TRDMT1, BOD1L1, SENP5, KIAA0355, ZNFX1, ZNF426, DNAJC27, FRAS1, SRPK2, PNPO, ZFAND3, HECA, ZNF420, RDH14, NSD3, PLPP5, MAP3K2, BSDC1, RBM39, EXOSC4, MADD, RAB28, SMAD2, KLHL7, CREB1, MKLN1, MTIF3, ZDHHC17, KIAA0232, KSR1, UHRF2, RBM33, ELF2, CLASRP, RNF103, RBMS1, SCAF8, KIF13A, TRPM7, KAT6A, RWDD3, ELL, WWC2, UNKL, RPGR, RALY, APLF, TRAK1, PRIMPOL, PCBD1, LBH, HDAC5, SIDT2, PCNX1, TMEM65, PPIL3, ZNF671, BANP, DYRK1A, MAPK1, HMGCS1, DDX17, MEX3C, USP32, DMD, STAT5B, C9orf72, NBEAL2, IMP4, PELI2, TMX4, ARID4B, TOR3A, RANBP2, MANEA, FLOT1, HCG18, BRAF, MAZ, SLC9A8, COMMD1, CDIP1, ACBD4, KANSL1L, THAP4, MRPL27, MED11, NUTF2, ANKRD12, METTL3, MLST8, NR2C2, BRWD1, MIR4727, HCG25, CUL4B, SLC25A37, PTK2B, MRPS5, BCL2, GNG2, U2AF1L4, KLF7, ROCK1, FBXO11, BRD4, ZNF555, TP53BP1, POLR2J4, SIPA1L1, DARS2, GOLGA2, ZNF652, LRRN1, BRAP, TBCEL, C15orf40, ZNF131, IFT57, DXO, ZMYM2, UROS, SMARCAD1, ZMYM4, USP44, SETMAR, SENP2, YTHDC1, SMIM7, PCGF3, ZNF32, CYP4V2, ZFP90, TATDN3, RCOR3, USP7, G6PD, TTC30A, MIR99AHG, PTEN, GGACT, ZNF140, SLC39A4, ZNF33A, CELF6, MECP2, DDX41, TMEM218, EGLN1, LRIF1, PRKCB, SETD5, PLSCR1, ADK, USF3, POU2F1, BID, ARFIP1, KLHL24, C6orf62, HNRNPD, KCTD6, ING1, TNKS, JMJD1C, SECISBP2, CSAD, NGLY1, TSEN15, NIN, FAM76B, ZFC3H1, SCLT1, ZNF805, ZNF292, RAPGEF6, ADD3, SLMAP, STAU1, NUMA1, MED12, C1orf122, DCP1A, NECAP1, INTS14, KANSL3, DOT1L, MFSD11, ZNF501, GTPBP1, FAM13B, BMI1, TCTN1, MEF2D, ANAPC16, UBXN4, HDHD2, TMCO4, NIT2, DALRD3, C1orf52, NSMCE3, CDK14, GPBP1, STK33, FRY, PTGES3, ZBTB14, KMT2C, ADM2, LPGAT1, PHIP, BAZ2A, ZNF586, WASHC3, UBR4, TRPC1, LMBRD1, LIAS, RNF19B, SBF2, C1orf43, SMIM19, ARIH1, EID2B, ATP2B1, ATP6V1E2, IVNS1ABP, KANSL1, MEX3A, TMEM109, RBMXL1, POLI, ALKBH6, KDM4B, MRGBP, NFKBID, SUMO3, YY1AP1, VMAC, SFXN5, RYK, FAM168B, IPO5, PPP2R5C, RALGDS, LINC00476, SSH2, PELI1, PAM, KDM6A, TMEM128, ERP29, FAM8A1, RICTOR, NUDT16, PHF21A, GLRX3, TRMT10A, C6orf226, FBXO34, C2orf42, ATOX1, PKN2, EPC1, SCARNA17, KPNB1, DENND3, NSDHL, C16orf72, LHX6, DHX16, KLHL2, SF3B4, TMEM19, UBXN7, CHCHD2P6, NFIL3, NR4A2, NUP153, PLA2G6, IRS2, BANF1, ARID2, CMIP, UBE2D3, LMTK2, AIG1, UBXN2A, PAN3, SIK3, NIPBL\n"
     ]
    }
   ],
   "source": [
    "# Save genes as SYMBOL\n",
    "\n",
    "ens_gene_list = list(ns_mat.columns.values)\n",
    "mg = mygene.MyGeneInfo()\n",
    "symbol_genes = mg.querymany(ens_gene_list, scopes='ensembl.gene', fields='symbol', species='human')\n",
    "gene_list = []\n",
    "for el in symbol_genes:\n",
    "    if \"symbol\" in el:\n",
    "        gene_list.append(el[\"symbol\"])\n",
    "print(\"len of ens genes: {}, len of symbol genes: {}\".format(len(ens_gene_list), len(gene_list)))\n",
    "print(', '.join(gene_list))"
   ]
  },
  {
   "cell_type": "markdown",
   "metadata": {},
   "source": [
    "# Using single NESSRA FILES"
   ]
  },
  {
   "cell_type": "code",
   "execution_count": 100,
   "metadata": {},
   "outputs": [
    {
     "name": "stdout",
     "output_type": "stream",
     "text": [
      "querying 1-250...done.\n",
      "Finished.\n",
      "10 input query terms found dup hits:\n",
      "\t[('SDAD1P1', 2), ('MIR4523', 2), ('CHCHD2P6', 2), ('MIR99AHG', 2), ('HCG25', 8), ('URB1-AS1', 2), ('\n",
      "3 input query terms found no hit:\n",
      "\t['LINC00441', 'PROSC', 'ZCCHC11']\n",
      "Pass \"returnall=True\" to return complete lists of duplicate or missing query terms.\n",
      "querying 1-250...done.\n",
      "Finished.\n",
      "4 input query terms found dup hits:\n",
      "\t[('HCG18', 8), ('MIR4727', 2), ('PCBP1-AS1', 2), ('POLR2J4', 2)]\n",
      "7 input query terms found no hit:\n",
      "\t['CECR5', 'MARCH6', 'SSFA2', 'FAM49A', '2019-08-03 00:00:00', 'DIRC2', '2019-08-02 00:00:00']\n",
      "Pass \"returnall=True\" to return complete lists of duplicate or missing query terms.\n",
      "Len of set smad4: 279\n",
      "Len of set braf: 275\n"
     ]
    }
   ],
   "source": [
    "# Constructing sets\n",
    "freq_treshold = 0.3\n",
    "n_genes_per_file = 250\n",
    "\n",
    "\n",
    "#set_apc = ng.setGen(list_apc[0], list_apc[1],freq_treshold, n_genes_per_file, tcode_symbol_dict, useIntFile=True)\n",
    "set_smad4 = ng.setGen(list_smad4[0], list_smad4[1], freq_treshold, n_genes_per_file, tcode_symbol_dict, useIntFile=False)\n",
    "#set_kras = ng.setGen(list_kras[0], list_kras[1], freq_treshold, n_genes_per_file, tcode_symbol_dict, useIntFile=False)\n",
    "set_braf = ng.setGen(list_braf[0], list_braf[1], freq_treshold, n_genes_per_file, tcode_symbol_dict, useIntFile=False)\n",
    "\n",
    "#list_of_sets = [set_apc, set_smad4, set_braf, set_braf ]\n",
    "list_of_sets = [set_smad4, set_braf]\n",
    "#print(\"Len of set apc: {}\".format(len(set_apc)))\n",
    "print(\"Len of set smad4: {}\".format(len(set_smad4)))\n",
    "#print(\"Len of set kras: {}\".format(len(set_kras)))\n",
    "print(\"Len of set braf: {}\".format(len(set_braf)))"
   ]
  },
  {
   "cell_type": "code",
   "execution_count": 109,
   "metadata": {},
   "outputs": [
    {
     "name": "stdout",
     "output_type": "stream",
     "text": [
      "Transpose matrix filtered shape: (102, 482)\n"
     ]
    }
   ],
   "source": [
    "ns_mat = model.select_table(matrix_t, list_of_sets)\n",
    "print(\"Transpose matrix filtered shape: {}\".format(ns_mat.shape))\n",
    "# Split dataset into training set and test set\n",
    "X_train, X_test, y_train, y_test = train_test_split(ns_mat.values, train.values, test_size=0.3,random_state=100) # 80% training and 20% test\n"
   ]
  },
  {
   "cell_type": "markdown",
   "metadata": {},
   "source": [
    "### SVM"
   ]
  },
  {
   "cell_type": "code",
   "execution_count": 102,
   "metadata": {},
   "outputs": [
    {
     "name": "stdout",
     "output_type": "stream",
     "text": [
      "{'C': 10.0, 'gamma': 1.0}\n",
      "fit_time 0.008128643035888672\n",
      "score_time 0.011251370112101236\n",
      "test_accuracy 0.6618357487922706\n",
      "test_f1 0.0\n",
      "test_precision 0.0\n",
      "test_recall 0.0\n",
      "\n",
      "Nessra treshold of 0.3, selected max 250 genes per set:\n",
      "\n",
      "Len of ens id set smad4: 279\n",
      "Len of ens id set braf: 275\n",
      "\n",
      "Transpose matrix intersection with sets shape: (102, 482)\n",
      "\n",
      "---- Naive Bayes ----\n",
      "Proportion of 0s in test y: 0.6451612903225806\n",
      "Proportion of 0s in prediction y: 1.0\n",
      "\n",
      "[0 0 0 1 1 0 0 0 0 1 1 1 0 0 1 0 0 0 0 0 0 0 1 1 0 1 1 0 0 1 0]\n",
      "[0 0 0 0 0 0 0 0 0 0 0 0 0 0 0 0 0 0 0 0 0 0 0 0 0 0 0 0 0 0 0]\n",
      "Accuracy: 0.6451612903225806\n"
     ]
    },
    {
     "name": "stderr",
     "output_type": "stream",
     "text": [
      "/home/riccardo/miniconda3/lib/python3.7/site-packages/sklearn/metrics/classification.py:1437: UndefinedMetricWarning: F-score is ill-defined and being set to 0.0 due to no predicted samples.\n",
      "  'precision', 'predicted', average, warn_for)\n",
      "/home/riccardo/miniconda3/lib/python3.7/site-packages/sklearn/metrics/classification.py:1437: UndefinedMetricWarning: Precision is ill-defined and being set to 0.0 due to no predicted samples.\n",
      "  'precision', 'predicted', average, warn_for)\n",
      "/home/riccardo/miniconda3/lib/python3.7/site-packages/sklearn/metrics/classification.py:1437: UndefinedMetricWarning: F-score is ill-defined and being set to 0.0 due to no predicted samples.\n",
      "  'precision', 'predicted', average, warn_for)\n",
      "/home/riccardo/miniconda3/lib/python3.7/site-packages/sklearn/metrics/classification.py:1437: UndefinedMetricWarning: Precision is ill-defined and being set to 0.0 due to no predicted samples.\n",
      "  'precision', 'predicted', average, warn_for)\n",
      "/home/riccardo/miniconda3/lib/python3.7/site-packages/sklearn/metrics/classification.py:1437: UndefinedMetricWarning: F-score is ill-defined and being set to 0.0 due to no predicted samples.\n",
      "  'precision', 'predicted', average, warn_for)\n",
      "/home/riccardo/miniconda3/lib/python3.7/site-packages/sklearn/metrics/classification.py:1437: UndefinedMetricWarning: Precision is ill-defined and being set to 0.0 due to no predicted samples.\n",
      "  'precision', 'predicted', average, warn_for)\n"
     ]
    }
   ],
   "source": [
    "# train the model\n",
    "clf_ns = model.training(X_train, y_train)\n",
    "\n",
    "y_pred = clf_ns.predict(X_test)\n",
    "print(\"\")\n",
    "print(\"Nessra treshold of {}, selected max {} genes per set:\".format(freq_treshold, n_genes_per_file))\n",
    "print(\"\")\n",
    "#print(\"Len of ens id set apc: {}\".format(len(set_apc)))\n",
    "print(\"Len of ens id set smad4: {}\".format(len(set_smad4)))\n",
    "#print(\"Len of ens id set kras: {}\".format(len(set_kras)))\n",
    "print(\"Len of ens id set braf: {}\".format(len(set_braf)))\n",
    "print(\"\")\n",
    "print(\"Transpose matrix intersection with sets shape: {}\".format(ns_mat.shape))\n",
    "print(\"\")\n",
    "print(\"---- Naive Bayes ----\")\n",
    "print(\"Proportion of 0s in test y: {}\".format(len([x for x in y_test if x <1])/len(y_test)))\n",
    "print(\"Proportion of 0s in prediction y: {}\".format(len([x for x in y_pred if x <1])/len(y_pred)))\n",
    "print(\"\")\n",
    "print(y_test)\n",
    "print(y_pred)\n",
    "print(\"Accuracy:\",metrics.accuracy_score(y_test, y_pred))"
   ]
  },
  {
   "cell_type": "markdown",
   "metadata": {},
   "source": [
    "### Bayes"
   ]
  },
  {
   "cell_type": "code",
   "execution_count": 110,
   "metadata": {},
   "outputs": [
    {
     "name": "stdout",
     "output_type": "stream",
     "text": [
      "Nessra treshold of 0.3, selected max 250 genes per set:\n",
      "\n",
      "Len of ens id set smad4: 279\n",
      "Len of ens id set braf: 275\n",
      "\n",
      "Transpose matrix intersection with sets shape: (102, 482)\n",
      "\n",
      "---- Naive Bayes ----\n",
      "Proportion of 0s in test y: 0.6451612903225806\n",
      "Proportion of 0s in prediction y: 0.5483870967741935\n",
      "\n",
      "[0 0 0 1 1 0 0 0 0 1 1 1 0 0 1 0 0 0 0 0 0 0 1 1 0 1 1 0 0 1 0]\n",
      "[0 0 0 1 1 0 0 0 1 1 1 1 0 0 1 1 0 0 1 1 0 0 1 1 0 1 0 0 0 1 0]\n",
      "Accuracy: 0.8387096774193549\n"
     ]
    }
   ],
   "source": [
    "#Create a Gaussian Classifier\n",
    "g_model = GaussianNB()\n",
    "\n",
    "# Train the model using the training sets\n",
    "g_model.fit(X_train,y_train)\n",
    "\n",
    "predicted= g_model.predict(X_test)\n",
    "\n",
    "print(\"Nessra treshold of {}, selected max {} genes per set:\".format(freq_treshold, n_genes_per_file))\n",
    "print(\"\")\n",
    "#print(\"Len of ens id set apc: {}\".format(len(set_apc)))\n",
    "print(\"Len of ens id set smad4: {}\".format(len(set_smad4)))\n",
    "#print(\"Len of ens id set kras: {}\".format(len(set_kras)))\n",
    "print(\"Len of ens id set braf: {}\".format(len(set_braf)))\n",
    "print(\"\")\n",
    "print(\"Transpose matrix intersection with sets shape: {}\".format(ns_mat.shape))\n",
    "print(\"\")\n",
    "print(\"---- Naive Bayes ----\")\n",
    "print(\"Proportion of 0s in test y: {}\".format(len([x for x in y_test if x <1])/len(y_test)))\n",
    "print(\"Proportion of 0s in prediction y: {}\".format(len([x for x in predicted if x <1])/len(predicted)))\n",
    "print(\"\")\n",
    "print(y_test)\n",
    "print(predicted)\n",
    "print(\"Accuracy:\",metrics.accuracy_score(y_test, predicted))\n"
   ]
  },
  {
   "cell_type": "code",
   "execution_count": null,
   "metadata": {},
   "outputs": [],
   "source": []
  },
  {
   "cell_type": "code",
   "execution_count": null,
   "metadata": {},
   "outputs": [],
   "source": []
  }
 ],
 "metadata": {
  "kernelspec": {
   "display_name": "Python 3",
   "language": "python",
   "name": "python3"
  },
  "language_info": {
   "codemirror_mode": {
    "name": "ipython",
    "version": 3
   },
   "file_extension": ".py",
   "mimetype": "text/x-python",
   "name": "python",
   "nbconvert_exporter": "python",
   "pygments_lexer": "ipython3",
   "version": "3.7.4"
  }
 },
 "nbformat": 4,
 "nbformat_minor": 2
}
