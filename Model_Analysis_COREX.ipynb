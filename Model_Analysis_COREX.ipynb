{
 "cells": [
  {
   "cell_type": "code",
   "execution_count": 2,
   "metadata": {},
   "outputs": [],
   "source": [
    "import numpy as np\n",
    "import pandas as pd\n",
    "import model\n",
    "import nessra_genes_sets_generator as ng\n",
    "import mygene \n",
    "# Import train_test_split function\n",
    "from sklearn.model_selection import train_test_split\n",
    "#Import scikit-learn metrics module for accuracy calculation\n",
    "from sklearn import metrics\n",
    "# Import `StandardScaler` from `sklearn.preprocessing`\n",
    "from sklearn.preprocessing import StandardScaler\n",
    "#Import Gaussian Naive Bayes model\n",
    "from sklearn.naive_bayes import GaussianNB"
   ]
  },
  {
   "cell_type": "code",
   "execution_count": 25,
   "metadata": {},
   "outputs": [],
   "source": [
    "#------------ SVM ANALYSIS ------------\n",
    "def svmModel(matrix_t, list_of_sets, obj):\n",
    "    mat = model.select_table(matrix_t, list_of_sets)\n",
    "    print(\"Transpose matrix filtered shape: {}\".format(mat.shape))\n",
    "    \n",
    "    # Split dataset into training set and test set\n",
    "    X_train, X_test, y_train, y_test = train_test_split(mat.values, obj.values, test_size=0.3,random_state=100) # 70% training and 30% test\n",
    "    # Define the scaler \n",
    "    scaler = StandardScaler().fit(X_train)\n",
    "    # Scale the train set\n",
    "    X_train = scaler.transform(X_train)\n",
    "    # Scale the test set\n",
    "    X_test = scaler.transform(X_test)\n",
    "    \n",
    "    #model training\n",
    "    clf_ns = model.training(X_train, y_train)\n",
    "\n",
    "    y_pred = clf_ns.predict(X_test)\n",
    "    print(\"\")\n",
    "    print(\"---- SVM ----\")\n",
    "    print(\"Proportion of 0s in test y: {}\".format(len([x for x in y_test if x <1])/len(y_test)))\n",
    "    print(\"Proportion of 0s in prediction y: {}\".format(len([x for x in y_pred if x <1])/len(y_pred)))\n",
    "    print(\"\")\n",
    "    print(y_test)\n",
    "    print(y_pred)\n",
    "    print(\"AUC:\", metrics.roc_auc_score(y_test, y_pred))\n",
    "    \n",
    "    return(clf_ns)\n",
    "\n",
    "def BayesModel(matrix_t, list_of_sets, obj):\n",
    "    mat = model.select_table(matrix_t, list_of_sets)\n",
    "    print(\"Transpose matrix filtered shape: {}\".format(mat.shape))\n",
    "    \n",
    "    # Split dataset into training set and test set\n",
    "    X_train, X_test, y_train, y_test = train_test_split(mat.values, obj.values, test_size=0.3,random_state=100) # 70% training and 30% test\n",
    "    # Define the scaler \n",
    "    scaler = StandardScaler().fit(X_train)\n",
    "    # Scale the train set\n",
    "    X_train = scaler.transform(X_train)\n",
    "    # Scale the test set\n",
    "    X_test = scaler.transform(X_test)\n",
    "\n",
    "    #Create a Gaussian Classifier\n",
    "    g_model = GaussianNB()\n",
    "\n",
    "    # Train the model using the training sets\n",
    "    g_model.fit(X_train,y_train)\n",
    "\n",
    "    predicted= g_model.predict(X_test)\n",
    "\n",
    "    print(\"---- Naive Bayes ----\")\n",
    "    print(\"Proportion of 0s in test y: {}\".format(round(len([x for x in y_test if x <1])/len(y_test), 4)))\n",
    "    print(\"Proportion of 0s in prediction y: {}\".format(round(len([x for x in predicted if x <1])/len(predicted),4)))\n",
    "    print(\"\")\n",
    "    print(y_test)\n",
    "    print(predicted)\n",
    "    print(\"AUC:\",round(metrics.roc_auc_score(y_test, predicted), 4))\n",
    "    \n",
    "    return g_model"
   ]
  },
  {
   "cell_type": "markdown",
   "metadata": {},
   "source": [
    "# Matrix and Objective vector preparation"
   ]
  },
  {
   "cell_type": "code",
   "execution_count": 15,
   "metadata": {},
   "outputs": [
    {
     "name": "stdout",
     "output_type": "stream",
     "text": [
      "Matrix shape: (60482, 103)\n",
      "\n",
      "Transpose matrix shape: (102, 60482)\n",
      "\n",
      "Objective shape: (104, 3)\n",
      "Objective shape after filter for matrix samples: (102, 3)\n",
      "Final obj vector for classication is a <class 'pandas.core.series.Series'>, len: 102\n",
      "\n"
     ]
    }
   ],
   "source": [
    "#------------- MATRIX and CLASS VECTOR\n",
    "matrix = pd.read_csv(\"~/Desktop/expressionMatrix5.tsv\", sep = \"\\t\", header=0)\n",
    "#class_vector = pd.read_csv(\"~/GoogleDrive/DataMiningLab/Model/objective.tsv\", sep = \"\\t\", header=0)\n",
    "print(\"Matrix shape: {}\".format(matrix.shape))\n",
    "#print(matrix.head(2))\n",
    "print(\"\")\n",
    "\n",
    "# transposing matrix\n",
    "matrix_t = matrix.T\n",
    "matrix_t.columns = matrix_t.iloc[0]\n",
    "matrix_t = matrix_t.drop(\"Gene_ID\", axis=0)\n",
    "print(\"Transpose matrix shape: {}\".format(matrix_t.shape))\n",
    "print(\"\")\n",
    "\n",
    "# class vector \n",
    "class_vector = pd.read_csv(\"~/Desktop/objective.tsv\", sep = \"\\t\", header=0)\n",
    "print(\"Objective shape: {}\".format(class_vector.shape))  \n",
    "\n",
    "# generating barcode of samples\n",
    "samples_bar = []\n",
    "for name in list(matrix_t.index.values):\n",
    "    samples_bar.append(name[:-4])\n",
    "fil_for_class = class_vector.barcode.isin(samples_bar)\n",
    "class_vector = class_vector[fil_for_class]\n",
    "print(\"Objective shape after filter for matrix samples: {}\".format(class_vector.shape))\n",
    "\n",
    "# Final vector for classifying\n",
    "obj = class_vector[\"over2years\"]\n",
    "print(\"Final obj vector for classication is a {}, len: {}\".format(type(obj), len(obj)))\n",
    "print(\"\")"
   ]
  },
  {
   "cell_type": "markdown",
   "metadata": {},
   "source": [
    "# CorEX genes analysis"
   ]
  },
  {
   "cell_type": "code",
   "execution_count": 41,
   "metadata": {},
   "outputs": [
    {
     "name": "stdout",
     "output_type": "stream",
     "text": [
      "Len of selected genes: 1300\n"
     ]
    }
   ],
   "source": [
    "corex_mis_path = \"./corex_mis.tsv\"\n",
    "cluster_id = 0\n",
    "n_genes = 1300\n",
    "\n",
    "c_genes = model.select_genes(corex_mis_path, cluster_id, n_genes)\n",
    "print(\"Len of selected genes: {}\".format(len(c_genes)))"
   ]
  },
  {
   "cell_type": "code",
   "execution_count": 37,
   "metadata": {},
   "outputs": [
    {
     "name": "stdout",
     "output_type": "stream",
     "text": [
      "Transpose matrix filtered shape: (102, 100)\n",
      "{'C': 10.0, 'gamma': 1.0}\n",
      "fit_time 0.0014259020487467449\n",
      "score_time 0.005232810974121094\n",
      "test_accuracy 0.6612318840579711\n",
      "test_f1 0.0\n",
      "test_precision 0.0\n",
      "test_recall 0.0\n",
      "\n",
      "---- SVM ----\n",
      "Proportion of 0s in test y: 0.6451612903225806\n",
      "Proportion of 0s in prediction y: 1.0\n",
      "\n",
      "[0 0 0 1 1 0 0 0 0 1 1 1 0 0 1 0 0 0 0 0 0 0 1 1 0 1 1 0 0 1 0]\n",
      "[0 0 0 0 0 0 0 0 0 0 0 0 0 0 0 0 0 0 0 0 0 0 0 0 0 0 0 0 0 0 0]\n",
      "AUC: 0.5\n"
     ]
    },
    {
     "name": "stderr",
     "output_type": "stream",
     "text": [
      "/home/riccardo/miniconda3/lib/python3.7/site-packages/sklearn/model_selection/_search.py:814: DeprecationWarning: The default of the `iid` parameter will change from True to False in version 0.22 and will be removed in 0.24. This will change numeric results when test-set sizes are unequal.\n",
      "  DeprecationWarning)\n",
      "/home/riccardo/miniconda3/lib/python3.7/site-packages/sklearn/metrics/classification.py:1437: UndefinedMetricWarning: F-score is ill-defined and being set to 0.0 due to no predicted samples.\n",
      "  'precision', 'predicted', average, warn_for)\n",
      "/home/riccardo/miniconda3/lib/python3.7/site-packages/sklearn/metrics/classification.py:1437: UndefinedMetricWarning: Precision is ill-defined and being set to 0.0 due to no predicted samples.\n",
      "  'precision', 'predicted', average, warn_for)\n",
      "/home/riccardo/miniconda3/lib/python3.7/site-packages/sklearn/metrics/classification.py:1437: UndefinedMetricWarning: F-score is ill-defined and being set to 0.0 due to no predicted samples.\n",
      "  'precision', 'predicted', average, warn_for)\n",
      "/home/riccardo/miniconda3/lib/python3.7/site-packages/sklearn/metrics/classification.py:1437: UndefinedMetricWarning: Precision is ill-defined and being set to 0.0 due to no predicted samples.\n",
      "  'precision', 'predicted', average, warn_for)\n",
      "/home/riccardo/miniconda3/lib/python3.7/site-packages/sklearn/metrics/classification.py:1437: UndefinedMetricWarning: F-score is ill-defined and being set to 0.0 due to no predicted samples.\n",
      "  'precision', 'predicted', average, warn_for)\n",
      "/home/riccardo/miniconda3/lib/python3.7/site-packages/sklearn/metrics/classification.py:1437: UndefinedMetricWarning: Precision is ill-defined and being set to 0.0 due to no predicted samples.\n",
      "  'precision', 'predicted', average, warn_for)\n"
     ]
    }
   ],
   "source": [
    "# SVM analysis\n",
    "\n",
    "svm = svmModel(matrix_t, [set(c_genes)], obj)"
   ]
  },
  {
   "cell_type": "code",
   "execution_count": 42,
   "metadata": {},
   "outputs": [
    {
     "name": "stdout",
     "output_type": "stream",
     "text": [
      "Transpose matrix filtered shape: (102, 1300)\n",
      "---- Naive Bayes ----\n",
      "Proportion of 0s in test y: 0.6452\n",
      "Proportion of 0s in prediction y: 0.4194\n",
      "\n",
      "[0 0 0 1 1 0 0 0 0 1 1 1 0 0 1 0 0 0 0 0 0 0 1 1 0 1 1 0 0 1 0]\n",
      "[1 0 0 1 1 1 1 0 0 1 0 1 1 0 1 0 0 1 0 0 1 1 1 1 1 1 0 0 1 1 0]\n",
      "AUC: 0.6841\n"
     ]
    }
   ],
   "source": [
    "# Bayes\n",
    "\n",
    "bayes = BayesModel(matrix_t, [set(c_genes)], obj)"
   ]
  },
  {
   "cell_type": "code",
   "execution_count": null,
   "metadata": {},
   "outputs": [],
   "source": []
  }
 ],
 "metadata": {
  "kernelspec": {
   "display_name": "Python 3",
   "language": "python",
   "name": "python3"
  },
  "language_info": {
   "codemirror_mode": {
    "name": "ipython",
    "version": 3
   },
   "file_extension": ".py",
   "mimetype": "text/x-python",
   "name": "python",
   "nbconvert_exporter": "python",
   "pygments_lexer": "ipython3",
   "version": "3.7.4"
  }
 },
 "nbformat": 4,
 "nbformat_minor": 2
}
